{
  "nbformat": 4,
  "nbformat_minor": 0,
  "metadata": {
    "kernelspec": {
      "language": "python",
      "display_name": "Python 3",
      "name": "python3"
    },
    "language_info": {
      "name": "python",
      "version": "3.7.10",
      "mimetype": "text/x-python",
      "codemirror_mode": {
        "name": "ipython",
        "version": 3
      },
      "pygments_lexer": "ipython3",
      "nbconvert_exporter": "python",
      "file_extension": ".py"
    },
    "colab": {
      "name": "258-271.ipynb",
      "provenance": [],
      "include_colab_link": true
    }
  },
  "cells": [
    {
      "cell_type": "markdown",
      "metadata": {
        "id": "view-in-github",
        "colab_type": "text"
      },
      "source": [
        "<a href=\"https://colab.research.google.com/github/Rafterbang/tkc_258-271/blob/main/Tugas6-258_271.ipynb\" target=\"_parent\"><img src=\"https://colab.research.google.com/assets/colab-badge.svg\" alt=\"Open In Colab\"/></a>"
      ]
    },
    {
      "cell_type": "code",
      "metadata": {
        "colab": {
          "base_uri": "https://localhost:8080/"
        },
        "id": "MJRXEcHfTjhF",
        "outputId": "c1bd70b2-6d06-447e-a842-9085c2126689"
      },
      "source": [
        "from google.colab import drive\n",
        "drive.mount('/content//drive')"
      ],
      "execution_count": null,
      "outputs": [
        {
          "output_type": "stream",
          "name": "stdout",
          "text": [
            "Mounted at /content//drive\n"
          ]
        }
      ]
    },
    {
      "cell_type": "code",
      "metadata": {
        "id": "Vq3WtgtfTl9Q"
      },
      "source": [
        "import os\n",
        "os.environ['KAGGLE_CONFIG_DIR'] = \"/content/drive/MyDrive/Colab Notebooks/S7/TKC\""
      ],
      "execution_count": null,
      "outputs": []
    },
    {
      "cell_type": "code",
      "metadata": {
        "colab": {
          "base_uri": "https://localhost:8080/"
        },
        "id": "fNYZlzUWTrPX",
        "outputId": "1ce9ba0c-3022-4fd0-87d8-cdc3393899f0"
      },
      "source": [
        "%cd /content/drive/MyDrive/Colab Notebooks/S7/TKC\n",
        "!ls -a"
      ],
      "execution_count": null,
      "outputs": [
        {
          "output_type": "stream",
          "name": "stdout",
          "text": [
            "/content/drive/MyDrive/Colab Notebooks/S7/TKC\n",
            "kaggle.json\n"
          ]
        }
      ]
    },
    {
      "cell_type": "code",
      "metadata": {
        "colab": {
          "base_uri": "https://localhost:8080/"
        },
        "id": "cO8FEy9AUaKB",
        "outputId": "44734b12-ef0f-45f9-9039-14b9735ccf13"
      },
      "source": [
        "!kaggle datasets download -d tawsifurrahman/covid19-radiography-database"
      ],
      "execution_count": null,
      "outputs": [
        {
          "output_type": "stream",
          "name": "stdout",
          "text": [
            "Downloading covid19-radiography-database.zip to /content/drive/MyDrive/Colab Notebooks/S7/TKC\n",
            " 98% 731M/745M [00:07<00:00, 127MB/s]\n",
            "100% 745M/745M [00:07<00:00, 106MB/s]\n"
          ]
        }
      ]
    },
    {
      "cell_type": "code",
      "metadata": {
        "colab": {
          "base_uri": "https://localhost:8080/"
        },
        "id": "kYJ7eJTtUq3r",
        "outputId": "f1b70a55-0c6d-4510-aa6c-d00767e5f42f"
      },
      "source": [
        "!kaggle datasets download -d prashant268/chest-xray-covid19-pneumonia"
      ],
      "execution_count": null,
      "outputs": [
        {
          "output_type": "stream",
          "name": "stdout",
          "text": [
            "Downloading chest-xray-covid19-pneumonia.zip to /content/drive/MyDrive/Colab Notebooks/S7/TKC\n",
            "100% 2.05G/2.06G [00:22<00:00, 57.9MB/s]\n",
            "100% 2.06G/2.06G [00:23<00:00, 95.8MB/s]\n"
          ]
        }
      ]
    },
    {
      "cell_type": "code",
      "metadata": {
        "id": "93DCQzpbUzOT"
      },
      "source": [
        "import os\n",
        "import zipfile\n",
        "\n",
        "zip_ref = zipfile.ZipFile(\"/content/drive/MyDrive/Colab Notebooks/S7/TKC/covid19-radiography-database.zip\", 'r')\n",
        "zip_ref.extractall(\"/content/drive/MyDrive/Colab Notebooks/S7/TKC\")\n",
        "zip_ref.close()"
      ],
      "execution_count": 11,
      "outputs": []
    },
    {
      "cell_type": "code",
      "metadata": {
        "id": "O96Y1XxdVV-F"
      },
      "source": [
        "import os\n",
        "import zipfile\n",
        "\n",
        "zip_ref = zipfile.ZipFile(\"/content/drive/MyDrive/Colab Notebooks/S7/TKC/chest-xray-covid19-pneumonia.zip\", 'r')\n",
        "zip_ref.extractall(\"/content/drive/MyDrive/Colab Notebooks/S7/TKC\")\n",
        "zip_ref.close()"
      ],
      "execution_count": 12,
      "outputs": []
    },
    {
      "cell_type": "code",
      "metadata": {
        "_cell_guid": "79c7e3d0-c299-4dcb-8224-4455121ee9b0",
        "_uuid": "d629ff2d2480ee46fbb7e2d37f6b5fab8052498a",
        "execution": {
          "iopub.status.busy": "2021-09-20T09:36:34.908683Z",
          "iopub.execute_input": "2021-09-20T09:36:34.908994Z",
          "iopub.status.idle": "2021-09-20T09:36:43.722073Z",
          "shell.execute_reply.started": "2021-09-20T09:36:34.908906Z",
          "shell.execute_reply": "2021-09-20T09:36:43.721266Z"
        },
        "trusted": true,
        "id": "bE-p_173TiRf",
        "colab": {
          "base_uri": "https://localhost:8080/"
        },
        "outputId": "4531b2bd-c38f-4d7a-c745-dbc96b048185"
      },
      "source": [
        "import os\n",
        "import numpy as np\n",
        "import pandas as pd\n",
        "import matplotlib.pyplot as plt\n",
        "!pip install openpyxl"
      ],
      "execution_count": 13,
      "outputs": [
        {
          "output_type": "stream",
          "name": "stdout",
          "text": [
            "Requirement already satisfied: openpyxl in /usr/local/lib/python3.7/dist-packages (2.5.9)\n",
            "Requirement already satisfied: et-xmlfile in /usr/local/lib/python3.7/dist-packages (from openpyxl) (1.1.0)\n",
            "Requirement already satisfied: jdcal in /usr/local/lib/python3.7/dist-packages (from openpyxl) (1.4.1)\n"
          ]
        }
      ]
    },
    {
      "cell_type": "code",
      "metadata": {
        "execution": {
          "iopub.status.busy": "2021-09-20T09:36:54.254369Z",
          "iopub.execute_input": "2021-09-20T09:36:54.254635Z",
          "iopub.status.idle": "2021-09-20T09:36:56.207683Z",
          "shell.execute_reply.started": "2021-09-20T09:36:54.254606Z",
          "shell.execute_reply": "2021-09-20T09:36:56.206957Z"
        },
        "trusted": true,
        "id": "CmlbyTXmTiRj"
      },
      "source": [
        "train_cov=pd.read_excel(\"/content/drive/MyDrive/Colab Notebooks/S7/TKC/COVID-19_Radiography_Dataset/COVID.metadata.xlsx\")\n",
        "train_cov[\"label\"]= \"COVID\"\n",
        "train_nor=pd.read_excel(\"/content/drive/MyDrive/Colab Notebooks/S7/TKC/COVID-19_Radiography_Dataset/Normal.metadata.xlsx\").sample(4192)\n",
        "train_nor[\"label\"]= \"NORMAL\"\n",
        "train_pneu=pd.read_excel(\"/content/drive/MyDrive/Colab Notebooks/S7/TKC/COVID-19_Radiography_Dataset/Viral Pneumonia.metadata.xlsx\")\n",
        "train_pneu[\"label\"]= \"PNEUMONIA\""
      ],
      "execution_count": 14,
      "outputs": []
    },
    {
      "cell_type": "code",
      "metadata": {
        "execution": {
          "iopub.status.busy": "2021-09-20T09:36:56.283386Z",
          "iopub.execute_input": "2021-09-20T09:36:56.283595Z",
          "iopub.status.idle": "2021-09-20T09:36:58.036298Z",
          "shell.execute_reply.started": "2021-09-20T09:36:56.283572Z",
          "shell.execute_reply": "2021-09-20T09:36:58.035485Z"
        },
        "trusted": true,
        "id": "TXi4cxa7TiRj"
      },
      "source": [
        "import os\n",
        "import pandas as pd\n",
        "y = 0\n",
        "data = []\n",
        "for dirname, _, filenames in os.walk('/content/drive/MyDrive/Colab Notebooks/S7/TKC/Data/train/PNEUMONIA'):\n",
        "    for filename in filenames:\n",
        "        y = y + 1\n",
        "        if y<=2847:\n",
        "            data.append(os.path.join(dirname, filename))\n"
      ],
      "execution_count": 15,
      "outputs": []
    },
    {
      "cell_type": "code",
      "metadata": {
        "execution": {
          "iopub.status.busy": "2021-09-20T09:36:58.037898Z",
          "iopub.execute_input": "2021-09-20T09:36:58.038181Z",
          "iopub.status.idle": "2021-09-20T09:36:58.045884Z",
          "shell.execute_reply.started": "2021-09-20T09:36:58.038150Z",
          "shell.execute_reply": "2021-09-20T09:36:58.044155Z"
        },
        "trusted": true,
        "id": "zd9A4_njTiRk"
      },
      "source": [
        "df_pneu2 = pd.DataFrame(data)"
      ],
      "execution_count": 16,
      "outputs": []
    },
    {
      "cell_type": "code",
      "metadata": {
        "execution": {
          "iopub.status.busy": "2021-09-20T09:36:58.047163Z",
          "iopub.execute_input": "2021-09-20T09:36:58.047430Z",
          "iopub.status.idle": "2021-09-20T09:36:58.060447Z",
          "shell.execute_reply.started": "2021-09-20T09:36:58.047399Z",
          "shell.execute_reply": "2021-09-20T09:36:58.059735Z"
        },
        "trusted": true,
        "id": "P8SrefT7TiRk"
      },
      "source": [
        "df_pneu2.rename(columns = {0:'images'}, inplace = True)\n",
        "df_pneu2[\"target\"] = \"PNEUMONIA\""
      ],
      "execution_count": 17,
      "outputs": []
    },
    {
      "cell_type": "code",
      "metadata": {
        "execution": {
          "iopub.status.busy": "2021-09-20T09:36:59.031684Z",
          "iopub.execute_input": "2021-09-20T09:36:59.031950Z",
          "iopub.status.idle": "2021-09-20T09:36:59.052760Z",
          "shell.execute_reply.started": "2021-09-20T09:36:59.031923Z",
          "shell.execute_reply": "2021-09-20T09:36:59.052080Z"
        },
        "trusted": true,
        "id": "nt58uvnyTiRl",
        "colab": {
          "base_uri": "https://localhost:8080/",
          "height": 423
        },
        "outputId": "0677b50c-fa60-454c-d554-b593cd483fda"
      },
      "source": [
        "df_pneu2"
      ],
      "execution_count": 18,
      "outputs": [
        {
          "output_type": "execute_result",
          "data": {
            "text/html": [
              "<div>\n",
              "<style scoped>\n",
              "    .dataframe tbody tr th:only-of-type {\n",
              "        vertical-align: middle;\n",
              "    }\n",
              "\n",
              "    .dataframe tbody tr th {\n",
              "        vertical-align: top;\n",
              "    }\n",
              "\n",
              "    .dataframe thead th {\n",
              "        text-align: right;\n",
              "    }\n",
              "</style>\n",
              "<table border=\"1\" class=\"dataframe\">\n",
              "  <thead>\n",
              "    <tr style=\"text-align: right;\">\n",
              "      <th></th>\n",
              "      <th>images</th>\n",
              "      <th>target</th>\n",
              "    </tr>\n",
              "  </thead>\n",
              "  <tbody>\n",
              "    <tr>\n",
              "      <th>0</th>\n",
              "      <td>/content/drive/MyDrive/Colab Notebooks/S7/TKC/...</td>\n",
              "      <td>PNEUMONIA</td>\n",
              "    </tr>\n",
              "    <tr>\n",
              "      <th>1</th>\n",
              "      <td>/content/drive/MyDrive/Colab Notebooks/S7/TKC/...</td>\n",
              "      <td>PNEUMONIA</td>\n",
              "    </tr>\n",
              "    <tr>\n",
              "      <th>2</th>\n",
              "      <td>/content/drive/MyDrive/Colab Notebooks/S7/TKC/...</td>\n",
              "      <td>PNEUMONIA</td>\n",
              "    </tr>\n",
              "    <tr>\n",
              "      <th>3</th>\n",
              "      <td>/content/drive/MyDrive/Colab Notebooks/S7/TKC/...</td>\n",
              "      <td>PNEUMONIA</td>\n",
              "    </tr>\n",
              "    <tr>\n",
              "      <th>4</th>\n",
              "      <td>/content/drive/MyDrive/Colab Notebooks/S7/TKC/...</td>\n",
              "      <td>PNEUMONIA</td>\n",
              "    </tr>\n",
              "    <tr>\n",
              "      <th>...</th>\n",
              "      <td>...</td>\n",
              "      <td>...</td>\n",
              "    </tr>\n",
              "    <tr>\n",
              "      <th>2842</th>\n",
              "      <td>/content/drive/MyDrive/Colab Notebooks/S7/TKC/...</td>\n",
              "      <td>PNEUMONIA</td>\n",
              "    </tr>\n",
              "    <tr>\n",
              "      <th>2843</th>\n",
              "      <td>/content/drive/MyDrive/Colab Notebooks/S7/TKC/...</td>\n",
              "      <td>PNEUMONIA</td>\n",
              "    </tr>\n",
              "    <tr>\n",
              "      <th>2844</th>\n",
              "      <td>/content/drive/MyDrive/Colab Notebooks/S7/TKC/...</td>\n",
              "      <td>PNEUMONIA</td>\n",
              "    </tr>\n",
              "    <tr>\n",
              "      <th>2845</th>\n",
              "      <td>/content/drive/MyDrive/Colab Notebooks/S7/TKC/...</td>\n",
              "      <td>PNEUMONIA</td>\n",
              "    </tr>\n",
              "    <tr>\n",
              "      <th>2846</th>\n",
              "      <td>/content/drive/MyDrive/Colab Notebooks/S7/TKC/...</td>\n",
              "      <td>PNEUMONIA</td>\n",
              "    </tr>\n",
              "  </tbody>\n",
              "</table>\n",
              "<p>2847 rows × 2 columns</p>\n",
              "</div>"
            ],
            "text/plain": [
              "                                                 images     target\n",
              "0     /content/drive/MyDrive/Colab Notebooks/S7/TKC/...  PNEUMONIA\n",
              "1     /content/drive/MyDrive/Colab Notebooks/S7/TKC/...  PNEUMONIA\n",
              "2     /content/drive/MyDrive/Colab Notebooks/S7/TKC/...  PNEUMONIA\n",
              "3     /content/drive/MyDrive/Colab Notebooks/S7/TKC/...  PNEUMONIA\n",
              "4     /content/drive/MyDrive/Colab Notebooks/S7/TKC/...  PNEUMONIA\n",
              "...                                                 ...        ...\n",
              "2842  /content/drive/MyDrive/Colab Notebooks/S7/TKC/...  PNEUMONIA\n",
              "2843  /content/drive/MyDrive/Colab Notebooks/S7/TKC/...  PNEUMONIA\n",
              "2844  /content/drive/MyDrive/Colab Notebooks/S7/TKC/...  PNEUMONIA\n",
              "2845  /content/drive/MyDrive/Colab Notebooks/S7/TKC/...  PNEUMONIA\n",
              "2846  /content/drive/MyDrive/Colab Notebooks/S7/TKC/...  PNEUMONIA\n",
              "\n",
              "[2847 rows x 2 columns]"
            ]
          },
          "metadata": {},
          "execution_count": 18
        }
      ]
    },
    {
      "cell_type": "code",
      "metadata": {
        "execution": {
          "iopub.status.busy": "2021-09-20T09:36:59.703159Z",
          "iopub.execute_input": "2021-09-20T09:36:59.703521Z",
          "iopub.status.idle": "2021-09-20T09:36:59.786666Z",
          "shell.execute_reply.started": "2021-09-20T09:36:59.703485Z",
          "shell.execute_reply": "2021-09-20T09:36:59.785813Z"
        },
        "trusted": true,
        "id": "buvAyfRnTiRl"
      },
      "source": [
        "import os\n",
        "import pandas as pd\n",
        "data1 = []\n",
        "x = 0\n",
        "for dirname, _, filenames in os.walk('../input/chest-xray-covid19-pneumonia/Data/train/COVID19'):\n",
        "    for filename in filenames:\n",
        "            data1.append(os.path.join(dirname, filename))\n",
        "for dirname, _, filenames in os.walk('../input/chest-xray-covid19-pneumonia/Data/test/COVID19'):\n",
        "    for filename in filenames:\n",
        "            data1.append(os.path.join(dirname, filename))"
      ],
      "execution_count": 19,
      "outputs": []
    },
    {
      "cell_type": "code",
      "metadata": {
        "execution": {
          "iopub.status.busy": "2021-09-20T09:37:00.246783Z",
          "iopub.execute_input": "2021-09-20T09:37:00.247451Z",
          "iopub.status.idle": "2021-09-20T09:37:00.255689Z",
          "shell.execute_reply.started": "2021-09-20T09:37:00.247416Z",
          "shell.execute_reply": "2021-09-20T09:37:00.254854Z"
        },
        "trusted": true,
        "id": "gi63faghTiRm"
      },
      "source": [
        "df_cov2 = pd.DataFrame(data1)\n",
        "df_cov2.rename(columns = {0:'images'}, inplace = True)\n",
        "df_cov2[\"target\"] = \"COVID\""
      ],
      "execution_count": 20,
      "outputs": []
    },
    {
      "cell_type": "code",
      "metadata": {
        "execution": {
          "iopub.status.busy": "2021-09-20T09:37:00.885662Z",
          "iopub.execute_input": "2021-09-20T09:37:00.886228Z",
          "iopub.status.idle": "2021-09-20T09:37:00.891735Z",
          "shell.execute_reply.started": "2021-09-20T09:37:00.886195Z",
          "shell.execute_reply": "2021-09-20T09:37:00.890810Z"
        },
        "trusted": true,
        "id": "J-ag8MfRTiRn",
        "colab": {
          "base_uri": "https://localhost:8080/"
        },
        "outputId": "c3c5b89e-44c2-4d5e-93e3-ba9590397805"
      },
      "source": [
        "df_cov2.shape"
      ],
      "execution_count": 21,
      "outputs": [
        {
          "output_type": "execute_result",
          "data": {
            "text/plain": [
              "(920, 2)"
            ]
          },
          "metadata": {},
          "execution_count": 21
        }
      ]
    },
    {
      "cell_type": "code",
      "metadata": {
        "execution": {
          "iopub.status.busy": "2021-09-20T09:37:02.083498Z",
          "iopub.execute_input": "2021-09-20T09:37:02.084273Z",
          "iopub.status.idle": "2021-09-20T09:37:02.172983Z",
          "shell.execute_reply.started": "2021-09-20T09:37:02.084222Z",
          "shell.execute_reply": "2021-09-20T09:37:02.172333Z"
        },
        "trusted": true,
        "id": "DlLY34U-TiRn"
      },
      "source": [
        "train_dir='/content/drive/MyDrive/Colab Notebooks/S7/TKC/COVID-19_Radiography_Dataset/COVID'\n",
        "data=[]\n",
        "labels=[]\n",
        "for i in range(train_cov.shape[0]):\n",
        "    data.append(train_dir+train_cov['FILE NAME'].iloc[i]+'.png')\n",
        "    labels.append(train_cov['label'].iloc[i])\n",
        "df_cov=pd.DataFrame(data)\n",
        "df_cov.columns=['images']\n",
        "df_cov['target']=labels"
      ],
      "execution_count": 22,
      "outputs": []
    },
    {
      "cell_type": "code",
      "metadata": {
        "execution": {
          "iopub.status.busy": "2021-09-20T09:37:02.930516Z",
          "iopub.execute_input": "2021-09-20T09:37:02.931110Z",
          "iopub.status.idle": "2021-09-20T09:37:02.987703Z",
          "shell.execute_reply.started": "2021-09-20T09:37:02.931077Z",
          "shell.execute_reply": "2021-09-20T09:37:02.986913Z"
        },
        "trusted": true,
        "id": "rHELLBC8TiRo"
      },
      "source": [
        "x= []\n",
        "for i in range(train_nor.shape[0]):\n",
        "    x.append(train_nor[\"FILE NAME\"].iloc[i].title())"
      ],
      "execution_count": 23,
      "outputs": []
    },
    {
      "cell_type": "code",
      "metadata": {
        "execution": {
          "iopub.status.busy": "2021-09-20T09:37:03.865632Z",
          "iopub.execute_input": "2021-09-20T09:37:03.866207Z",
          "iopub.status.idle": "2021-09-20T09:37:03.926746Z",
          "shell.execute_reply.started": "2021-09-20T09:37:03.866173Z",
          "shell.execute_reply": "2021-09-20T09:37:03.926066Z"
        },
        "trusted": true,
        "id": "Bxolyr0VTiRo"
      },
      "source": [
        "train_dir='/content/drive/MyDrive/Colab Notebooks/S7/TKC/COVID-19_Radiography_Dataset/Normal'\n",
        "data=[]\n",
        "labels=[]\n",
        "for i in range(train_nor.shape[0]):\n",
        "    data.append(train_dir+x[i]+'.png')\n",
        "    labels.append(train_nor['label'].iloc[i])\n",
        "df_nor=pd.DataFrame(data)\n",
        "df_nor.columns=['images']\n",
        "df_nor['target']=labels"
      ],
      "execution_count": 24,
      "outputs": []
    },
    {
      "cell_type": "code",
      "metadata": {
        "execution": {
          "iopub.status.busy": "2021-09-20T09:37:04.769683Z",
          "iopub.execute_input": "2021-09-20T09:37:04.770378Z",
          "iopub.status.idle": "2021-09-20T09:37:04.785671Z",
          "shell.execute_reply.started": "2021-09-20T09:37:04.770344Z",
          "shell.execute_reply": "2021-09-20T09:37:04.784852Z"
        },
        "trusted": true,
        "id": "HqfD-_KWTiRo",
        "colab": {
          "base_uri": "https://localhost:8080/",
          "height": 423
        },
        "outputId": "f08bfe22-b73c-43a5-e75d-f9457ed09725"
      },
      "source": [
        "df_nor"
      ],
      "execution_count": 25,
      "outputs": [
        {
          "output_type": "execute_result",
          "data": {
            "text/html": [
              "<div>\n",
              "<style scoped>\n",
              "    .dataframe tbody tr th:only-of-type {\n",
              "        vertical-align: middle;\n",
              "    }\n",
              "\n",
              "    .dataframe tbody tr th {\n",
              "        vertical-align: top;\n",
              "    }\n",
              "\n",
              "    .dataframe thead th {\n",
              "        text-align: right;\n",
              "    }\n",
              "</style>\n",
              "<table border=\"1\" class=\"dataframe\">\n",
              "  <thead>\n",
              "    <tr style=\"text-align: right;\">\n",
              "      <th></th>\n",
              "      <th>images</th>\n",
              "      <th>target</th>\n",
              "    </tr>\n",
              "  </thead>\n",
              "  <tbody>\n",
              "    <tr>\n",
              "      <th>0</th>\n",
              "      <td>/content/drive/MyDrive/Colab Notebooks/S7/TKC/...</td>\n",
              "      <td>NORMAL</td>\n",
              "    </tr>\n",
              "    <tr>\n",
              "      <th>1</th>\n",
              "      <td>/content/drive/MyDrive/Colab Notebooks/S7/TKC/...</td>\n",
              "      <td>NORMAL</td>\n",
              "    </tr>\n",
              "    <tr>\n",
              "      <th>2</th>\n",
              "      <td>/content/drive/MyDrive/Colab Notebooks/S7/TKC/...</td>\n",
              "      <td>NORMAL</td>\n",
              "    </tr>\n",
              "    <tr>\n",
              "      <th>3</th>\n",
              "      <td>/content/drive/MyDrive/Colab Notebooks/S7/TKC/...</td>\n",
              "      <td>NORMAL</td>\n",
              "    </tr>\n",
              "    <tr>\n",
              "      <th>4</th>\n",
              "      <td>/content/drive/MyDrive/Colab Notebooks/S7/TKC/...</td>\n",
              "      <td>NORMAL</td>\n",
              "    </tr>\n",
              "    <tr>\n",
              "      <th>...</th>\n",
              "      <td>...</td>\n",
              "      <td>...</td>\n",
              "    </tr>\n",
              "    <tr>\n",
              "      <th>4187</th>\n",
              "      <td>/content/drive/MyDrive/Colab Notebooks/S7/TKC/...</td>\n",
              "      <td>NORMAL</td>\n",
              "    </tr>\n",
              "    <tr>\n",
              "      <th>4188</th>\n",
              "      <td>/content/drive/MyDrive/Colab Notebooks/S7/TKC/...</td>\n",
              "      <td>NORMAL</td>\n",
              "    </tr>\n",
              "    <tr>\n",
              "      <th>4189</th>\n",
              "      <td>/content/drive/MyDrive/Colab Notebooks/S7/TKC/...</td>\n",
              "      <td>NORMAL</td>\n",
              "    </tr>\n",
              "    <tr>\n",
              "      <th>4190</th>\n",
              "      <td>/content/drive/MyDrive/Colab Notebooks/S7/TKC/...</td>\n",
              "      <td>NORMAL</td>\n",
              "    </tr>\n",
              "    <tr>\n",
              "      <th>4191</th>\n",
              "      <td>/content/drive/MyDrive/Colab Notebooks/S7/TKC/...</td>\n",
              "      <td>NORMAL</td>\n",
              "    </tr>\n",
              "  </tbody>\n",
              "</table>\n",
              "<p>4192 rows × 2 columns</p>\n",
              "</div>"
            ],
            "text/plain": [
              "                                                 images  target\n",
              "0     /content/drive/MyDrive/Colab Notebooks/S7/TKC/...  NORMAL\n",
              "1     /content/drive/MyDrive/Colab Notebooks/S7/TKC/...  NORMAL\n",
              "2     /content/drive/MyDrive/Colab Notebooks/S7/TKC/...  NORMAL\n",
              "3     /content/drive/MyDrive/Colab Notebooks/S7/TKC/...  NORMAL\n",
              "4     /content/drive/MyDrive/Colab Notebooks/S7/TKC/...  NORMAL\n",
              "...                                                 ...     ...\n",
              "4187  /content/drive/MyDrive/Colab Notebooks/S7/TKC/...  NORMAL\n",
              "4188  /content/drive/MyDrive/Colab Notebooks/S7/TKC/...  NORMAL\n",
              "4189  /content/drive/MyDrive/Colab Notebooks/S7/TKC/...  NORMAL\n",
              "4190  /content/drive/MyDrive/Colab Notebooks/S7/TKC/...  NORMAL\n",
              "4191  /content/drive/MyDrive/Colab Notebooks/S7/TKC/...  NORMAL\n",
              "\n",
              "[4192 rows x 2 columns]"
            ]
          },
          "metadata": {},
          "execution_count": 25
        }
      ]
    },
    {
      "cell_type": "code",
      "metadata": {
        "execution": {
          "iopub.status.busy": "2021-09-20T09:37:05.562977Z",
          "iopub.execute_input": "2021-09-20T09:37:05.563803Z",
          "iopub.status.idle": "2021-09-20T09:37:05.604747Z",
          "shell.execute_reply.started": "2021-09-20T09:37:05.563760Z",
          "shell.execute_reply": "2021-09-20T09:37:05.603932Z"
        },
        "trusted": true,
        "id": "use7GgAnTiRp"
      },
      "source": [
        "train_dir='/content/drive/MyDrive/Colab Notebooks/S7/TKC/COVID-19_Radiography_Dataset/Viral Pneumonia'\n",
        "data=[]\n",
        "labels=[]\n",
        "for i in range(train_pneu.shape[0]):\n",
        "    data.append(train_dir+train_pneu['FILE NAME'].iloc[i]+'.png')\n",
        "    labels.append(train_pneu['label'].iloc[i])\n",
        "df_pneu=pd.DataFrame(data)\n",
        "df_pneu.columns=['images']\n",
        "df_pneu['target']=labels"
      ],
      "execution_count": 26,
      "outputs": []
    },
    {
      "cell_type": "code",
      "metadata": {
        "execution": {
          "iopub.status.busy": "2021-09-20T09:37:06.398973Z",
          "iopub.execute_input": "2021-09-20T09:37:06.399234Z",
          "iopub.status.idle": "2021-09-20T09:37:06.411602Z",
          "shell.execute_reply.started": "2021-09-20T09:37:06.399208Z",
          "shell.execute_reply": "2021-09-20T09:37:06.410941Z"
        },
        "trusted": true,
        "id": "UyS5PmNETiRp"
      },
      "source": [
        "train=pd.concat([df_pneu,df_nor,df_cov,df_pneu2,df_cov2])\n",
        "train=train.reset_index()"
      ],
      "execution_count": 27,
      "outputs": []
    },
    {
      "cell_type": "code",
      "metadata": {
        "execution": {
          "iopub.status.busy": "2021-09-20T09:37:07.377021Z",
          "iopub.execute_input": "2021-09-20T09:37:07.377670Z",
          "iopub.status.idle": "2021-09-20T09:37:07.389711Z",
          "shell.execute_reply.started": "2021-09-20T09:37:07.377636Z",
          "shell.execute_reply": "2021-09-20T09:37:07.388802Z"
        },
        "trusted": true,
        "id": "nHzB5l7dTiRp",
        "colab": {
          "base_uri": "https://localhost:8080/"
        },
        "outputId": "d1f248f8-9a3b-43e2-81a4-3c6266d07fc1"
      },
      "source": [
        "train[\"target\"].value_counts()"
      ],
      "execution_count": 28,
      "outputs": [
        {
          "output_type": "execute_result",
          "data": {
            "text/plain": [
              "COVID        4536\n",
              "PNEUMONIA    4192\n",
              "NORMAL       4192\n",
              "Name: target, dtype: int64"
            ]
          },
          "metadata": {},
          "execution_count": 28
        }
      ]
    },
    {
      "cell_type": "code",
      "metadata": {
        "execution": {
          "iopub.status.busy": "2021-09-20T09:37:09.644195Z",
          "iopub.execute_input": "2021-09-20T09:37:09.644984Z",
          "iopub.status.idle": "2021-09-20T09:37:09.650174Z",
          "shell.execute_reply.started": "2021-09-20T09:37:09.644947Z",
          "shell.execute_reply": "2021-09-20T09:37:09.649384Z"
        },
        "trusted": true,
        "id": "NvQ7vun3TiRq",
        "colab": {
          "base_uri": "https://localhost:8080/",
          "height": 311
        },
        "outputId": "1e11ccea-f842-483f-8d0f-9e0b65d80b8f"
      },
      "source": [
        "train= train.drop([\"index\"], axis=1)"
      ],
      "execution_count": 30,
      "outputs": [
        {
          "output_type": "error",
          "ename": "KeyError",
          "evalue": "ignored",
          "traceback": [
            "\u001b[0;31m---------------------------------------------------------------------------\u001b[0m",
            "\u001b[0;31mKeyError\u001b[0m                                  Traceback (most recent call last)",
            "\u001b[0;32m<ipython-input-30-15b27a6e0a57>\u001b[0m in \u001b[0;36m<module>\u001b[0;34m()\u001b[0m\n\u001b[0;32m----> 1\u001b[0;31m \u001b[0mtrain\u001b[0m\u001b[0;34m=\u001b[0m \u001b[0mtrain\u001b[0m\u001b[0;34m.\u001b[0m\u001b[0mdrop\u001b[0m\u001b[0;34m(\u001b[0m\u001b[0;34m[\u001b[0m\u001b[0;34m\"index\"\u001b[0m\u001b[0;34m]\u001b[0m\u001b[0;34m,\u001b[0m \u001b[0maxis\u001b[0m\u001b[0;34m=\u001b[0m\u001b[0;36m1\u001b[0m\u001b[0;34m)\u001b[0m\u001b[0;34m\u001b[0m\u001b[0;34m\u001b[0m\u001b[0m\n\u001b[0m",
            "\u001b[0;32m/usr/local/lib/python3.7/dist-packages/pandas/core/frame.py\u001b[0m in \u001b[0;36mdrop\u001b[0;34m(self, labels, axis, index, columns, level, inplace, errors)\u001b[0m\n\u001b[1;32m   4172\u001b[0m             \u001b[0mlevel\u001b[0m\u001b[0;34m=\u001b[0m\u001b[0mlevel\u001b[0m\u001b[0;34m,\u001b[0m\u001b[0;34m\u001b[0m\u001b[0;34m\u001b[0m\u001b[0m\n\u001b[1;32m   4173\u001b[0m             \u001b[0minplace\u001b[0m\u001b[0;34m=\u001b[0m\u001b[0minplace\u001b[0m\u001b[0;34m,\u001b[0m\u001b[0;34m\u001b[0m\u001b[0;34m\u001b[0m\u001b[0m\n\u001b[0;32m-> 4174\u001b[0;31m             \u001b[0merrors\u001b[0m\u001b[0;34m=\u001b[0m\u001b[0merrors\u001b[0m\u001b[0;34m,\u001b[0m\u001b[0;34m\u001b[0m\u001b[0;34m\u001b[0m\u001b[0m\n\u001b[0m\u001b[1;32m   4175\u001b[0m         )\n\u001b[1;32m   4176\u001b[0m \u001b[0;34m\u001b[0m\u001b[0m\n",
            "\u001b[0;32m/usr/local/lib/python3.7/dist-packages/pandas/core/generic.py\u001b[0m in \u001b[0;36mdrop\u001b[0;34m(self, labels, axis, index, columns, level, inplace, errors)\u001b[0m\n\u001b[1;32m   3887\u001b[0m         \u001b[0;32mfor\u001b[0m \u001b[0maxis\u001b[0m\u001b[0;34m,\u001b[0m \u001b[0mlabels\u001b[0m \u001b[0;32min\u001b[0m \u001b[0maxes\u001b[0m\u001b[0;34m.\u001b[0m\u001b[0mitems\u001b[0m\u001b[0;34m(\u001b[0m\u001b[0;34m)\u001b[0m\u001b[0;34m:\u001b[0m\u001b[0;34m\u001b[0m\u001b[0;34m\u001b[0m\u001b[0m\n\u001b[1;32m   3888\u001b[0m             \u001b[0;32mif\u001b[0m \u001b[0mlabels\u001b[0m \u001b[0;32mis\u001b[0m \u001b[0;32mnot\u001b[0m \u001b[0;32mNone\u001b[0m\u001b[0;34m:\u001b[0m\u001b[0;34m\u001b[0m\u001b[0;34m\u001b[0m\u001b[0m\n\u001b[0;32m-> 3889\u001b[0;31m                 \u001b[0mobj\u001b[0m \u001b[0;34m=\u001b[0m \u001b[0mobj\u001b[0m\u001b[0;34m.\u001b[0m\u001b[0m_drop_axis\u001b[0m\u001b[0;34m(\u001b[0m\u001b[0mlabels\u001b[0m\u001b[0;34m,\u001b[0m \u001b[0maxis\u001b[0m\u001b[0;34m,\u001b[0m \u001b[0mlevel\u001b[0m\u001b[0;34m=\u001b[0m\u001b[0mlevel\u001b[0m\u001b[0;34m,\u001b[0m \u001b[0merrors\u001b[0m\u001b[0;34m=\u001b[0m\u001b[0merrors\u001b[0m\u001b[0;34m)\u001b[0m\u001b[0;34m\u001b[0m\u001b[0;34m\u001b[0m\u001b[0m\n\u001b[0m\u001b[1;32m   3890\u001b[0m \u001b[0;34m\u001b[0m\u001b[0m\n\u001b[1;32m   3891\u001b[0m         \u001b[0;32mif\u001b[0m \u001b[0minplace\u001b[0m\u001b[0;34m:\u001b[0m\u001b[0;34m\u001b[0m\u001b[0;34m\u001b[0m\u001b[0m\n",
            "\u001b[0;32m/usr/local/lib/python3.7/dist-packages/pandas/core/generic.py\u001b[0m in \u001b[0;36m_drop_axis\u001b[0;34m(self, labels, axis, level, errors)\u001b[0m\n\u001b[1;32m   3921\u001b[0m                 \u001b[0mnew_axis\u001b[0m \u001b[0;34m=\u001b[0m \u001b[0maxis\u001b[0m\u001b[0;34m.\u001b[0m\u001b[0mdrop\u001b[0m\u001b[0;34m(\u001b[0m\u001b[0mlabels\u001b[0m\u001b[0;34m,\u001b[0m \u001b[0mlevel\u001b[0m\u001b[0;34m=\u001b[0m\u001b[0mlevel\u001b[0m\u001b[0;34m,\u001b[0m \u001b[0merrors\u001b[0m\u001b[0;34m=\u001b[0m\u001b[0merrors\u001b[0m\u001b[0;34m)\u001b[0m\u001b[0;34m\u001b[0m\u001b[0;34m\u001b[0m\u001b[0m\n\u001b[1;32m   3922\u001b[0m             \u001b[0;32melse\u001b[0m\u001b[0;34m:\u001b[0m\u001b[0;34m\u001b[0m\u001b[0;34m\u001b[0m\u001b[0m\n\u001b[0;32m-> 3923\u001b[0;31m                 \u001b[0mnew_axis\u001b[0m \u001b[0;34m=\u001b[0m \u001b[0maxis\u001b[0m\u001b[0;34m.\u001b[0m\u001b[0mdrop\u001b[0m\u001b[0;34m(\u001b[0m\u001b[0mlabels\u001b[0m\u001b[0;34m,\u001b[0m \u001b[0merrors\u001b[0m\u001b[0;34m=\u001b[0m\u001b[0merrors\u001b[0m\u001b[0;34m)\u001b[0m\u001b[0;34m\u001b[0m\u001b[0;34m\u001b[0m\u001b[0m\n\u001b[0m\u001b[1;32m   3924\u001b[0m             \u001b[0mresult\u001b[0m \u001b[0;34m=\u001b[0m \u001b[0mself\u001b[0m\u001b[0;34m.\u001b[0m\u001b[0mreindex\u001b[0m\u001b[0;34m(\u001b[0m\u001b[0;34m**\u001b[0m\u001b[0;34m{\u001b[0m\u001b[0maxis_name\u001b[0m\u001b[0;34m:\u001b[0m \u001b[0mnew_axis\u001b[0m\u001b[0;34m}\u001b[0m\u001b[0;34m)\u001b[0m\u001b[0;34m\u001b[0m\u001b[0;34m\u001b[0m\u001b[0m\n\u001b[1;32m   3925\u001b[0m \u001b[0;34m\u001b[0m\u001b[0m\n",
            "\u001b[0;32m/usr/local/lib/python3.7/dist-packages/pandas/core/indexes/base.py\u001b[0m in \u001b[0;36mdrop\u001b[0;34m(self, labels, errors)\u001b[0m\n\u001b[1;32m   5285\u001b[0m         \u001b[0;32mif\u001b[0m \u001b[0mmask\u001b[0m\u001b[0;34m.\u001b[0m\u001b[0many\u001b[0m\u001b[0;34m(\u001b[0m\u001b[0;34m)\u001b[0m\u001b[0;34m:\u001b[0m\u001b[0;34m\u001b[0m\u001b[0;34m\u001b[0m\u001b[0m\n\u001b[1;32m   5286\u001b[0m             \u001b[0;32mif\u001b[0m \u001b[0merrors\u001b[0m \u001b[0;34m!=\u001b[0m \u001b[0;34m\"ignore\"\u001b[0m\u001b[0;34m:\u001b[0m\u001b[0;34m\u001b[0m\u001b[0;34m\u001b[0m\u001b[0m\n\u001b[0;32m-> 5287\u001b[0;31m                 \u001b[0;32mraise\u001b[0m \u001b[0mKeyError\u001b[0m\u001b[0;34m(\u001b[0m\u001b[0;34mf\"{labels[mask]} not found in axis\"\u001b[0m\u001b[0;34m)\u001b[0m\u001b[0;34m\u001b[0m\u001b[0;34m\u001b[0m\u001b[0m\n\u001b[0m\u001b[1;32m   5288\u001b[0m             \u001b[0mindexer\u001b[0m \u001b[0;34m=\u001b[0m \u001b[0mindexer\u001b[0m\u001b[0;34m[\u001b[0m\u001b[0;34m~\u001b[0m\u001b[0mmask\u001b[0m\u001b[0;34m]\u001b[0m\u001b[0;34m\u001b[0m\u001b[0;34m\u001b[0m\u001b[0m\n\u001b[1;32m   5289\u001b[0m         \u001b[0;32mreturn\u001b[0m \u001b[0mself\u001b[0m\u001b[0;34m.\u001b[0m\u001b[0mdelete\u001b[0m\u001b[0;34m(\u001b[0m\u001b[0mindexer\u001b[0m\u001b[0;34m)\u001b[0m\u001b[0;34m\u001b[0m\u001b[0;34m\u001b[0m\u001b[0m\n",
            "\u001b[0;31mKeyError\u001b[0m: \"['index'] not found in axis\""
          ]
        }
      ]
    },
    {
      "cell_type": "code",
      "metadata": {
        "execution": {
          "iopub.status.busy": "2021-09-20T09:37:10.639862Z",
          "iopub.execute_input": "2021-09-20T09:37:10.640432Z",
          "iopub.status.idle": "2021-09-20T09:37:10.651842Z",
          "shell.execute_reply.started": "2021-09-20T09:37:10.640394Z",
          "shell.execute_reply": "2021-09-20T09:37:10.650929Z"
        },
        "trusted": true,
        "id": "UOJ7iiXFTiRq",
        "colab": {
          "base_uri": "https://localhost:8080/",
          "height": 423
        },
        "outputId": "eda9802c-d423-4082-88d6-fd4151f38204"
      },
      "source": [
        "train"
      ],
      "execution_count": 31,
      "outputs": [
        {
          "output_type": "execute_result",
          "data": {
            "text/html": [
              "<div>\n",
              "<style scoped>\n",
              "    .dataframe tbody tr th:only-of-type {\n",
              "        vertical-align: middle;\n",
              "    }\n",
              "\n",
              "    .dataframe tbody tr th {\n",
              "        vertical-align: top;\n",
              "    }\n",
              "\n",
              "    .dataframe thead th {\n",
              "        text-align: right;\n",
              "    }\n",
              "</style>\n",
              "<table border=\"1\" class=\"dataframe\">\n",
              "  <thead>\n",
              "    <tr style=\"text-align: right;\">\n",
              "      <th></th>\n",
              "      <th>images</th>\n",
              "      <th>target</th>\n",
              "    </tr>\n",
              "  </thead>\n",
              "  <tbody>\n",
              "    <tr>\n",
              "      <th>0</th>\n",
              "      <td>/content/drive/MyDrive/Colab Notebooks/S7/TKC/...</td>\n",
              "      <td>PNEUMONIA</td>\n",
              "    </tr>\n",
              "    <tr>\n",
              "      <th>1</th>\n",
              "      <td>/content/drive/MyDrive/Colab Notebooks/S7/TKC/...</td>\n",
              "      <td>PNEUMONIA</td>\n",
              "    </tr>\n",
              "    <tr>\n",
              "      <th>2</th>\n",
              "      <td>/content/drive/MyDrive/Colab Notebooks/S7/TKC/...</td>\n",
              "      <td>PNEUMONIA</td>\n",
              "    </tr>\n",
              "    <tr>\n",
              "      <th>3</th>\n",
              "      <td>/content/drive/MyDrive/Colab Notebooks/S7/TKC/...</td>\n",
              "      <td>PNEUMONIA</td>\n",
              "    </tr>\n",
              "    <tr>\n",
              "      <th>4</th>\n",
              "      <td>/content/drive/MyDrive/Colab Notebooks/S7/TKC/...</td>\n",
              "      <td>PNEUMONIA</td>\n",
              "    </tr>\n",
              "    <tr>\n",
              "      <th>...</th>\n",
              "      <td>...</td>\n",
              "      <td>...</td>\n",
              "    </tr>\n",
              "    <tr>\n",
              "      <th>12915</th>\n",
              "      <td>/content/drive/MyDrive/Colab Notebooks/S7/TKC/...</td>\n",
              "      <td>COVID</td>\n",
              "    </tr>\n",
              "    <tr>\n",
              "      <th>12916</th>\n",
              "      <td>/content/drive/MyDrive/Colab Notebooks/S7/TKC/...</td>\n",
              "      <td>COVID</td>\n",
              "    </tr>\n",
              "    <tr>\n",
              "      <th>12917</th>\n",
              "      <td>/content/drive/MyDrive/Colab Notebooks/S7/TKC/...</td>\n",
              "      <td>COVID</td>\n",
              "    </tr>\n",
              "    <tr>\n",
              "      <th>12918</th>\n",
              "      <td>/content/drive/MyDrive/Colab Notebooks/S7/TKC/...</td>\n",
              "      <td>COVID</td>\n",
              "    </tr>\n",
              "    <tr>\n",
              "      <th>12919</th>\n",
              "      <td>/content/drive/MyDrive/Colab Notebooks/S7/TKC/...</td>\n",
              "      <td>COVID</td>\n",
              "    </tr>\n",
              "  </tbody>\n",
              "</table>\n",
              "<p>12920 rows × 2 columns</p>\n",
              "</div>"
            ],
            "text/plain": [
              "                                                  images     target\n",
              "0      /content/drive/MyDrive/Colab Notebooks/S7/TKC/...  PNEUMONIA\n",
              "1      /content/drive/MyDrive/Colab Notebooks/S7/TKC/...  PNEUMONIA\n",
              "2      /content/drive/MyDrive/Colab Notebooks/S7/TKC/...  PNEUMONIA\n",
              "3      /content/drive/MyDrive/Colab Notebooks/S7/TKC/...  PNEUMONIA\n",
              "4      /content/drive/MyDrive/Colab Notebooks/S7/TKC/...  PNEUMONIA\n",
              "...                                                  ...        ...\n",
              "12915  /content/drive/MyDrive/Colab Notebooks/S7/TKC/...      COVID\n",
              "12916  /content/drive/MyDrive/Colab Notebooks/S7/TKC/...      COVID\n",
              "12917  /content/drive/MyDrive/Colab Notebooks/S7/TKC/...      COVID\n",
              "12918  /content/drive/MyDrive/Colab Notebooks/S7/TKC/...      COVID\n",
              "12919  /content/drive/MyDrive/Colab Notebooks/S7/TKC/...      COVID\n",
              "\n",
              "[12920 rows x 2 columns]"
            ]
          },
          "metadata": {},
          "execution_count": 31
        }
      ]
    },
    {
      "cell_type": "code",
      "metadata": {
        "execution": {
          "iopub.status.busy": "2021-09-20T09:37:11.476794Z",
          "iopub.execute_input": "2021-09-20T09:37:11.477048Z",
          "iopub.status.idle": "2021-09-20T09:37:11.482531Z",
          "shell.execute_reply.started": "2021-09-20T09:37:11.477020Z",
          "shell.execute_reply": "2021-09-20T09:37:11.481784Z"
        },
        "trusted": true,
        "id": "HP0dBipATiRq",
        "colab": {
          "base_uri": "https://localhost:8080/"
        },
        "outputId": "58b8066a-91b2-4d8b-c6d7-07bb81feb296"
      },
      "source": [
        "train.shape"
      ],
      "execution_count": 32,
      "outputs": [
        {
          "output_type": "execute_result",
          "data": {
            "text/plain": [
              "(12920, 2)"
            ]
          },
          "metadata": {},
          "execution_count": 32
        }
      ]
    },
    {
      "cell_type": "code",
      "metadata": {
        "execution": {
          "iopub.status.busy": "2021-09-20T09:37:29.743870Z",
          "iopub.execute_input": "2021-09-20T09:37:29.744138Z",
          "iopub.status.idle": "2021-09-20T09:37:30.363268Z",
          "shell.execute_reply.started": "2021-09-20T09:37:29.744109Z",
          "shell.execute_reply": "2021-09-20T09:37:30.362246Z"
        },
        "trusted": true,
        "id": "OnJqm512TiRq"
      },
      "source": [
        "from sklearn.model_selection import train_test_split\n",
        "x_train,x_val,y_train,y_val=train_test_split(train['images'],train['target'],test_size=0.2,random_state=42)\n",
        "\n",
        "train_gen = pd.DataFrame({'image_dir': x_train, 'target': y_train})\n",
        "val_gen = pd.DataFrame({'image_dir': x_val, 'target': y_val})"
      ],
      "execution_count": 33,
      "outputs": []
    },
    {
      "cell_type": "code",
      "metadata": {
        "execution": {
          "iopub.status.busy": "2021-09-20T09:37:33.844473Z",
          "iopub.execute_input": "2021-09-20T09:37:33.845031Z",
          "iopub.status.idle": "2021-09-20T09:37:33.861534Z",
          "shell.execute_reply.started": "2021-09-20T09:37:33.844991Z",
          "shell.execute_reply": "2021-09-20T09:37:33.860491Z"
        },
        "trusted": true,
        "id": "CcMs5Sq-TiRr",
        "colab": {
          "base_uri": "https://localhost:8080/",
          "height": 423
        },
        "outputId": "0c37f24c-755a-4d1b-b2cc-f8fb2e7b0be6"
      },
      "source": [
        "train_gen"
      ],
      "execution_count": 34,
      "outputs": [
        {
          "output_type": "execute_result",
          "data": {
            "text/html": [
              "<div>\n",
              "<style scoped>\n",
              "    .dataframe tbody tr th:only-of-type {\n",
              "        vertical-align: middle;\n",
              "    }\n",
              "\n",
              "    .dataframe tbody tr th {\n",
              "        vertical-align: top;\n",
              "    }\n",
              "\n",
              "    .dataframe thead th {\n",
              "        text-align: right;\n",
              "    }\n",
              "</style>\n",
              "<table border=\"1\" class=\"dataframe\">\n",
              "  <thead>\n",
              "    <tr style=\"text-align: right;\">\n",
              "      <th></th>\n",
              "      <th>image_dir</th>\n",
              "      <th>target</th>\n",
              "    </tr>\n",
              "  </thead>\n",
              "  <tbody>\n",
              "    <tr>\n",
              "      <th>11291</th>\n",
              "      <td>/content/drive/MyDrive/Colab Notebooks/S7/TKC/...</td>\n",
              "      <td>PNEUMONIA</td>\n",
              "    </tr>\n",
              "    <tr>\n",
              "      <th>11667</th>\n",
              "      <td>/content/drive/MyDrive/Colab Notebooks/S7/TKC/...</td>\n",
              "      <td>PNEUMONIA</td>\n",
              "    </tr>\n",
              "    <tr>\n",
              "      <th>8106</th>\n",
              "      <td>/content/drive/MyDrive/Colab Notebooks/S7/TKC/...</td>\n",
              "      <td>COVID</td>\n",
              "    </tr>\n",
              "    <tr>\n",
              "      <th>1145</th>\n",
              "      <td>/content/drive/MyDrive/Colab Notebooks/S7/TKC/...</td>\n",
              "      <td>PNEUMONIA</td>\n",
              "    </tr>\n",
              "    <tr>\n",
              "      <th>11528</th>\n",
              "      <td>/content/drive/MyDrive/Colab Notebooks/S7/TKC/...</td>\n",
              "      <td>PNEUMONIA</td>\n",
              "    </tr>\n",
              "    <tr>\n",
              "      <th>...</th>\n",
              "      <td>...</td>\n",
              "      <td>...</td>\n",
              "    </tr>\n",
              "    <tr>\n",
              "      <th>11964</th>\n",
              "      <td>/content/drive/MyDrive/Colab Notebooks/S7/TKC/...</td>\n",
              "      <td>PNEUMONIA</td>\n",
              "    </tr>\n",
              "    <tr>\n",
              "      <th>5191</th>\n",
              "      <td>/content/drive/MyDrive/Colab Notebooks/S7/TKC/...</td>\n",
              "      <td>NORMAL</td>\n",
              "    </tr>\n",
              "    <tr>\n",
              "      <th>5390</th>\n",
              "      <td>/content/drive/MyDrive/Colab Notebooks/S7/TKC/...</td>\n",
              "      <td>NORMAL</td>\n",
              "    </tr>\n",
              "    <tr>\n",
              "      <th>860</th>\n",
              "      <td>/content/drive/MyDrive/Colab Notebooks/S7/TKC/...</td>\n",
              "      <td>PNEUMONIA</td>\n",
              "    </tr>\n",
              "    <tr>\n",
              "      <th>7270</th>\n",
              "      <td>/content/drive/MyDrive/Colab Notebooks/S7/TKC/...</td>\n",
              "      <td>COVID</td>\n",
              "    </tr>\n",
              "  </tbody>\n",
              "</table>\n",
              "<p>10336 rows × 2 columns</p>\n",
              "</div>"
            ],
            "text/plain": [
              "                                               image_dir     target\n",
              "11291  /content/drive/MyDrive/Colab Notebooks/S7/TKC/...  PNEUMONIA\n",
              "11667  /content/drive/MyDrive/Colab Notebooks/S7/TKC/...  PNEUMONIA\n",
              "8106   /content/drive/MyDrive/Colab Notebooks/S7/TKC/...      COVID\n",
              "1145   /content/drive/MyDrive/Colab Notebooks/S7/TKC/...  PNEUMONIA\n",
              "11528  /content/drive/MyDrive/Colab Notebooks/S7/TKC/...  PNEUMONIA\n",
              "...                                                  ...        ...\n",
              "11964  /content/drive/MyDrive/Colab Notebooks/S7/TKC/...  PNEUMONIA\n",
              "5191   /content/drive/MyDrive/Colab Notebooks/S7/TKC/...     NORMAL\n",
              "5390   /content/drive/MyDrive/Colab Notebooks/S7/TKC/...     NORMAL\n",
              "860    /content/drive/MyDrive/Colab Notebooks/S7/TKC/...  PNEUMONIA\n",
              "7270   /content/drive/MyDrive/Colab Notebooks/S7/TKC/...      COVID\n",
              "\n",
              "[10336 rows x 2 columns]"
            ]
          },
          "metadata": {},
          "execution_count": 34
        }
      ]
    },
    {
      "cell_type": "code",
      "metadata": {
        "execution": {
          "iopub.status.busy": "2021-09-20T10:31:28.697528Z",
          "iopub.execute_input": "2021-09-20T10:31:28.697792Z",
          "iopub.status.idle": "2021-09-20T10:31:34.964744Z",
          "shell.execute_reply.started": "2021-09-20T10:31:28.697764Z",
          "shell.execute_reply": "2021-09-20T10:31:34.963178Z"
        },
        "trusted": true,
        "id": "2JCUH-sYTiRr",
        "colab": {
          "base_uri": "https://localhost:8080/"
        },
        "outputId": "dfd080e6-e822-4991-9bdd-98013c5d6d8e"
      },
      "source": [
        "from tensorflow.keras.preprocessing.image import ImageDataGenerator\n",
        "train_datagen = ImageDataGenerator(rescale=1./255,rotation_range=20,\n",
        "    width_shift_range=0.2,\n",
        "    height_shift_range=0.2,horizontal_flip=True)\n",
        "val_datagen=ImageDataGenerator(rescale=1./255)\n",
        "train_generator = train_datagen.flow_from_dataframe(\n",
        "    train_gen,\n",
        "    x_col='image_dir',\n",
        "    y_col='target',\n",
        "    target_size=(256, 256),\n",
        "    batch_size=32,\n",
        "    shuffle=True,\n",
        "    class_mode='sparse',\n",
        "validate_filenames=True)\n",
        "\n",
        "validation_generator = val_datagen.flow_from_dataframe(\n",
        "    val_gen,\n",
        "    x_col='image_dir',\n",
        "    y_col='target',\n",
        "    target_size=(256, 256),\n",
        "    shuffle=False,\n",
        "    batch_size=32,\n",
        "    class_mode='sparse',\n",
        "validate_filenames=True)"
      ],
      "execution_count": 35,
      "outputs": [
        {
          "output_type": "stream",
          "name": "stderr",
          "text": [
            "/usr/local/lib/python3.7/dist-packages/keras_preprocessing/image/dataframe_iterator.py:282: UserWarning: Found 7279 invalid image filename(s) in x_col=\"image_dir\". These filename(s) will be ignored.\n",
            "  .format(n_invalid, x_col)\n"
          ]
        },
        {
          "output_type": "stream",
          "name": "stdout",
          "text": [
            "Found 3057 validated image filenames belonging to 2 classes.\n",
            "Found 710 validated image filenames belonging to 2 classes.\n"
          ]
        },
        {
          "output_type": "stream",
          "name": "stderr",
          "text": [
            "/usr/local/lib/python3.7/dist-packages/keras_preprocessing/image/dataframe_iterator.py:282: UserWarning: Found 1874 invalid image filename(s) in x_col=\"image_dir\". These filename(s) will be ignored.\n",
            "  .format(n_invalid, x_col)\n"
          ]
        }
      ]
    },
    {
      "cell_type": "code",
      "metadata": {
        "execution": {
          "iopub.status.busy": "2021-09-20T10:31:38.831845Z",
          "iopub.execute_input": "2021-09-20T10:31:38.832513Z",
          "iopub.status.idle": "2021-09-20T10:31:38.839959Z",
          "shell.execute_reply.started": "2021-09-20T10:31:38.832478Z",
          "shell.execute_reply": "2021-09-20T10:31:38.839103Z"
        },
        "trusted": true,
        "id": "La5sPHEZTiRs"
      },
      "source": [
        "#from keras.applications.vgg16 import VGG16\n",
        "from tensorflow.keras.layers import Dense, Flatten, Conv2D, MaxPooling2D, Dropout\n",
        "from tensorflow.keras import layers\n",
        "from tensorflow.keras.metrics import AUC\n",
        "from tensorflow.keras.activations import sigmoid\n",
        "from tensorflow.keras.optimizers import SGD, Adam, Adamax\n",
        "from tensorflow.keras import Model\n",
        "import tensorflow as tf"
      ],
      "execution_count": 36,
      "outputs": []
    },
    {
      "cell_type": "code",
      "metadata": {
        "execution": {
          "iopub.status.busy": "2021-09-20T10:31:40.606783Z",
          "iopub.execute_input": "2021-09-20T10:31:40.607035Z",
          "iopub.status.idle": "2021-09-20T10:31:40.636166Z",
          "shell.execute_reply.started": "2021-09-20T10:31:40.607008Z",
          "shell.execute_reply": "2021-09-20T10:31:40.635458Z"
        },
        "trusted": true,
        "id": "Q4M7F_L9TiRs"
      },
      "source": [
        "model = tf.keras.models.Sequential([\n",
        "      layers.BatchNormalization(),\n",
        "      layers.Conv2D(64, 3, activation='relu'),\n",
        "      layers.MaxPooling2D(),\n",
        "      layers.Dropout(0.3),\n",
        "      layers.Conv2D(128,3,activation='relu'),\n",
        "      layers.MaxPooling2D(),\n",
        "      layers.Conv2D(256, 3, activation='relu'),\n",
        "      layers.MaxPooling2D(),\n",
        "      layers.Dropout(0.3),\n",
        "      layers.Conv2D(512, 3, activation='relu'),\n",
        "      layers.MaxPooling2D(),\n",
        "      layers.Dropout(0.2),\n",
        "      layers.Flatten(),\n",
        "      layers.Dense(1024, activation='relu'),\n",
        "      layers.Dropout(0.15),\n",
        "      layers.Dense(3, activation= 'softmax')\n",
        "    ])"
      ],
      "execution_count": 37,
      "outputs": []
    },
    {
      "cell_type": "code",
      "metadata": {
        "execution": {
          "iopub.status.busy": "2021-09-20T10:31:42.666238Z",
          "iopub.execute_input": "2021-09-20T10:31:42.666991Z",
          "iopub.status.idle": "2021-09-20T10:31:42.680181Z",
          "shell.execute_reply.started": "2021-09-20T10:31:42.666955Z",
          "shell.execute_reply": "2021-09-20T10:31:42.679228Z"
        },
        "trusted": true,
        "id": "UxMaFLnYTiRt"
      },
      "source": [
        "import tensorflow.keras\n",
        "#from focal_loss import BinaryFocalLoss\n",
        "from tensorflow.keras.metrics import AUC\n",
        "opt = tensorflow.keras.optimizers.Adam(learning_rate = 1e-3)\n",
        "model.compile(optimizer=opt,loss='sparse_categorical_crossentropy', metrics=['accuracy'])\n",
        "\n",
        "# # model.compile(loss=keras.losses.BinaryCrossentropy(), metrics=['accuracy'],optimizer=opt)\n",
        "# model.compile(loss=BinaryFocalLoss(gamma=2), metrics=['AUC'],optimizer=opt)"
      ],
      "execution_count": 38,
      "outputs": []
    },
    {
      "cell_type": "code",
      "metadata": {
        "execution": {
          "iopub.status.busy": "2021-09-20T10:31:45.080756Z",
          "iopub.execute_input": "2021-09-20T10:31:45.081353Z",
          "iopub.status.idle": "2021-09-20T10:31:45.086201Z",
          "shell.execute_reply.started": "2021-09-20T10:31:45.081321Z",
          "shell.execute_reply": "2021-09-20T10:31:45.084590Z"
        },
        "trusted": true,
        "id": "p2e_1NcPTiRt"
      },
      "source": [
        "nb_epochs = 50\n",
        "batch_size=32"
      ],
      "execution_count": 39,
      "outputs": []
    },
    {
      "cell_type": "code",
      "metadata": {
        "execution": {
          "iopub.status.busy": "2021-09-20T10:31:46.605222Z",
          "iopub.execute_input": "2021-09-20T10:31:46.605935Z",
          "iopub.status.idle": "2021-09-20T13:37:59.602759Z",
          "shell.execute_reply.started": "2021-09-20T10:31:46.605901Z",
          "shell.execute_reply": "2021-09-20T13:37:59.602033Z"
        },
        "trusted": true,
        "id": "gJg6F11MTiRt",
        "colab": {
          "base_uri": "https://localhost:8080/"
        },
        "outputId": "d8a684a2-94a8-40b9-bd4d-518c1cd4cd52"
      },
      "source": [
        "hist=model.fit(\n",
        "    train_generator,\n",
        "    epochs=nb_epochs,\n",
        "    validation_data=validation_generator)\n",
        "\n",
        "# history = model.fit(train_generator,validation_data = validation_generator,epochs = 100,callbacks=callbacks)"
      ],
      "execution_count": null,
      "outputs": [
        {
          "output_type": "stream",
          "name": "stdout",
          "text": [
            "Epoch 1/50\n",
            "10/96 [==>...........................] - ETA: 25:34 - loss: 6.6436 - accuracy: 0.6438"
          ]
        }
      ]
    },
    {
      "cell_type": "code",
      "metadata": {
        "execution": {
          "iopub.status.busy": "2021-09-20T13:41:37.758978Z",
          "iopub.execute_input": "2021-09-20T13:41:37.759238Z",
          "iopub.status.idle": "2021-09-20T13:41:37.770970Z",
          "shell.execute_reply.started": "2021-09-20T13:41:37.759211Z",
          "shell.execute_reply": "2021-09-20T13:41:37.770173Z"
        },
        "trusted": true,
        "id": "v3IR-1OqTiRt"
      },
      "source": [
        "def plot_accuracy_loss_chart(history):\n",
        "    epochs = [i for i in range(50)]\n",
        "    fig , ax = plt.subplots(1,2)\n",
        "    train_acc = hist.history['accuracy']\n",
        "    train_loss = hist.history['loss']\n",
        "    val_acc = hist.history['val_accuracy']\n",
        "    val_loss = hist.history['val_loss']\n",
        "    fig.set_size_inches(20,10)\n",
        "    ax[0].plot(epochs , train_acc , 'go-' , label = 'Training Accuracy')\n",
        "    ax[0].plot(epochs , val_acc , 'ro-' , label = 'Validation Accuracy')\n",
        "    ax[0].set_title('Training & Validation Accuracy')\n",
        "    ax[0].legend()\n",
        "    ax[0].set_xlabel(\"Epochs\")\n",
        "    ax[0].set_ylabel(\"Accuracy\")\n",
        "\n",
        "    ax[1].plot(epochs , train_loss , 'g-o' , label = 'Training Loss')\n",
        "    ax[1].plot(epochs , val_loss , 'r-o' , label = 'Validation Loss')\n",
        "    ax[1].set_title('Training & Validation Loss')\n",
        "    ax[1].legend()\n",
        "    ax[1].set_xlabel(\"Epochs\")\n",
        "    ax[1].set_ylabel(\"Training & Validation Loss\")\n",
        "    plt.show()"
      ],
      "execution_count": null,
      "outputs": []
    },
    {
      "cell_type": "code",
      "metadata": {
        "execution": {
          "iopub.status.busy": "2021-09-20T13:41:39.100939Z",
          "iopub.execute_input": "2021-09-20T13:41:39.101355Z",
          "iopub.status.idle": "2021-09-20T13:41:39.575712Z",
          "shell.execute_reply.started": "2021-09-20T13:41:39.101323Z",
          "shell.execute_reply": "2021-09-20T13:41:39.574980Z"
        },
        "trusted": true,
        "id": "qLgptDNxTiRt"
      },
      "source": [
        "plot_accuracy_loss_chart(hist)"
      ],
      "execution_count": null,
      "outputs": []
    },
    {
      "cell_type": "code",
      "metadata": {
        "id": "2GrLxaiDTiRu"
      },
      "source": [
        "s = model.predict(validation_generator)"
      ],
      "execution_count": null,
      "outputs": []
    },
    {
      "cell_type": "code",
      "metadata": {
        "execution": {
          "iopub.status.busy": "2021-09-20T13:48:28.654911Z",
          "iopub.execute_input": "2021-09-20T13:48:28.655188Z",
          "iopub.status.idle": "2021-09-20T13:48:47.522653Z",
          "shell.execute_reply.started": "2021-09-20T13:48:28.655161Z",
          "shell.execute_reply": "2021-09-20T13:48:47.521999Z"
        },
        "trusted": true,
        "id": "xK1GH4NTTiRu"
      },
      "source": [
        "from sklearn.metrics import confusion_matrix\n",
        "plt.rcParams.update({'font.size': 16})\n",
        "predictions = model.predict(validation_generator)\n",
        "predictions = np.argmax(predictions,axis=1)\n",
        "predictions[:15]\n",
        "cm = confusion_matrix(validation_generator.classes, predictions)\n",
        "cm = pd.DataFrame(cm, index = ['0', '1', '2'], columns = ['0', '1', '2'])\n",
        "cm\n",
        "class_names = ['COVID','NORMAL','VIRAL PNEUMONIA']\n",
        "def plot_confusion_matrix (cm):\n",
        "    plt.figure(figsize = (10,10))\n",
        "    sns.heatmap(\n",
        "        cm, \n",
        "        cmap = 'Blues', \n",
        "        linecolor = 'black', \n",
        "        linewidth = 1, \n",
        "        annot = True, \n",
        "        fmt = '', \n",
        "        xticklabels = class_names, \n",
        "        yticklabels = class_names)\n",
        "    \n",
        "plot_confusion_matrix(cm)"
      ],
      "execution_count": null,
      "outputs": []
    },
    {
      "cell_type": "code",
      "metadata": {
        "execution": {
          "iopub.status.busy": "2021-09-20T13:53:30.241370Z",
          "iopub.execute_input": "2021-09-20T13:53:30.241814Z",
          "iopub.status.idle": "2021-09-20T13:53:30.527275Z",
          "shell.execute_reply.started": "2021-09-20T13:53:30.241782Z",
          "shell.execute_reply": "2021-09-20T13:53:30.526614Z"
        },
        "trusted": true,
        "id": "IKQ9NDogTiRu"
      },
      "source": [
        "from sklearn.metrics import confusion_matrix\n",
        "from sklearn.metrics import ConfusionMatrixDisplay\n",
        "cm = confusion_matrix(validation_generator.classes, predictions, normalize='true')\n",
        "def plot_confusion_matrix (cm):\n",
        "    plt.figure(figsize = (8,8))\n",
        "    sns.heatmap(\n",
        "        cm, \n",
        "        cmap = 'Blues', \n",
        "        linecolor = 'black', \n",
        "        linewidth = 1, \n",
        "        annot = True, \n",
        "        fmt=\".2%\", \n",
        "        xticklabels = class_names, \n",
        "        yticklabels = class_names)\n",
        "    \n",
        "plot_confusion_matrix(cm)"
      ],
      "execution_count": null,
      "outputs": []
    },
    {
      "cell_type": "code",
      "metadata": {
        "execution": {
          "iopub.status.busy": "2021-09-20T14:05:53.743762Z",
          "iopub.execute_input": "2021-09-20T14:05:53.744015Z",
          "iopub.status.idle": "2021-09-20T14:05:54.565215Z",
          "shell.execute_reply.started": "2021-09-20T14:05:53.743987Z",
          "shell.execute_reply": "2021-09-20T14:05:54.564480Z"
        },
        "trusted": true,
        "id": "nSSFnJPxTiRu"
      },
      "source": [
        "model.save_weights(\"model.hdf5\")"
      ],
      "execution_count": null,
      "outputs": []
    },
    {
      "cell_type": "code",
      "metadata": {
        "execution": {
          "iopub.status.busy": "2021-09-20T14:05:55.697793Z",
          "iopub.execute_input": "2021-09-20T14:05:55.698355Z",
          "iopub.status.idle": "2021-09-20T14:05:55.728424Z",
          "shell.execute_reply.started": "2021-09-20T14:05:55.698322Z",
          "shell.execute_reply": "2021-09-20T14:05:55.726750Z"
        },
        "trusted": true,
        "id": "IeVlnmEnTiRu"
      },
      "source": [
        "from tensorflow.keras.models import load_model\n",
        "model = load_model(\"model.hdf5\")\n",
        "train_loss, train_acc = model.evaluate(train_generator)\n",
        "test_loss, test_acc   = model.evaluate(validation_generator)\n",
        "print(\"final train accuracy = {:.2f} , validation accuracy = {:.2f}\".format(train_acc*100, test_acc*100))"
      ],
      "execution_count": null,
      "outputs": []
    },
    {
      "cell_type": "code",
      "metadata": {
        "id": "7Hq_uPRsTiRv"
      },
      "source": [
        ""
      ],
      "execution_count": null,
      "outputs": []
    }
  ]
}