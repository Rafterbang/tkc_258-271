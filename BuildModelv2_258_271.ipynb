{
  "cells": [
    {
      "cell_type": "markdown",
      "metadata": {
        "id": "view-in-github",
        "colab_type": "text"
      },
      "source": [
        "<a href=\"https://colab.research.google.com/github/Rafterbang/tkc_258-271/blob/main/BuildModelv2_258_271.ipynb\" target=\"_parent\"><img src=\"https://colab.research.google.com/assets/colab-badge.svg\" alt=\"Open In Colab\"/></a>"
      ]
    },
    {
      "cell_type": "code",
      "source": [
        "from google.colab import drive\n",
        "drive.mount('/content/drive')"
      ],
      "metadata": {
        "colab": {
          "base_uri": "https://localhost:8080/"
        },
        "id": "x9QxJrFG9fdE",
        "outputId": "981e7296-ace0-475d-ab13-c30442ba62cc"
      },
      "id": "x9QxJrFG9fdE",
      "execution_count": 1,
      "outputs": [
        {
          "output_type": "stream",
          "name": "stdout",
          "text": [
            "Mounted at /content/drive\n"
          ]
        }
      ]
    },
    {
      "cell_type": "code",
      "source": [
        "%cd /content/drive/MyDrive/Data"
      ],
      "metadata": {
        "colab": {
          "base_uri": "https://localhost:8080/"
        },
        "id": "pBA8uzVa9oh-",
        "outputId": "aaae33dd-5a19-4fcd-adb8-220ca3bb7392"
      },
      "id": "pBA8uzVa9oh-",
      "execution_count": 2,
      "outputs": [
        {
          "output_type": "stream",
          "name": "stdout",
          "text": [
            "[Errno 2] No such file or directory: '/content/drive/MyDrive/Data'\n",
            "/content\n"
          ]
        }
      ]
    },
    {
      "cell_type": "code",
      "execution_count": 3,
      "id": "5fae8a0b",
      "metadata": {
        "_cell_guid": "b1076dfc-b9ad-4769-8c92-a6c4dae69d19",
        "_uuid": "8f2839f25d086af736a60e9eeb907d3b93b6e0e5",
        "execution": {
          "iopub.execute_input": "2021-10-08T14:18:33.031530Z",
          "iopub.status.busy": "2021-10-08T14:18:33.029681Z",
          "iopub.status.idle": "2021-10-08T14:18:33.791459Z",
          "shell.execute_reply": "2021-10-08T14:18:33.791946Z",
          "shell.execute_reply.started": "2021-10-08T14:13:35.611240Z"
        },
        "papermill": {
          "duration": 0.782642,
          "end_time": "2021-10-08T14:18:33.792210",
          "exception": false,
          "start_time": "2021-10-08T14:18:33.009568",
          "status": "completed"
        },
        "tags": [],
        "id": "5fae8a0b"
      },
      "outputs": [],
      "source": [
        "# This Python 3 environment comes with many helpful analytics libraries installed\n",
        "# It is defined by the kaggle/python Docker image: https://github.com/kaggle/docker-python\n",
        "# For example, here's several helpful packages to load\n",
        "\n",
        "import numpy as np # linear algebra\n",
        "import pandas as pd # data processing, CSV file I/O (e.g. pd.read_csv)\n",
        "import seaborn as sns\n",
        "import matplotlib.pyplot as plt\n",
        "import matplotlib.image as mpimg\n",
        "from matplotlib.offsetbox import OffsetImage, AnnotationBbox\n",
        "from glob import glob\n",
        "from PIL import Image\n",
        "import os\n",
        "import random\n",
        "# You can write up to 20GB to the current directory (/kaggle/working/) that gets preserved as output when you create a version using \"Save & Run All\" \n",
        "# You can also write temporary files to /kaggle/temp/, but they won't be saved outside of the current session"
      ]
    },
    {
      "cell_type": "code",
      "execution_count": 4,
      "id": "04c5d441",
      "metadata": {
        "execution": {
          "iopub.execute_input": "2021-10-08T14:18:33.826181Z",
          "iopub.status.busy": "2021-10-08T14:18:33.825405Z",
          "iopub.status.idle": "2021-10-08T14:18:37.790693Z",
          "shell.execute_reply": "2021-10-08T14:18:37.789762Z",
          "shell.execute_reply.started": "2021-10-08T14:13:40.341243Z"
        },
        "papermill": {
          "duration": 3.982621,
          "end_time": "2021-10-08T14:18:37.790842",
          "exception": false,
          "start_time": "2021-10-08T14:18:33.808221",
          "status": "completed"
        },
        "tags": [],
        "id": "04c5d441"
      },
      "outputs": [],
      "source": [
        "#Model\n",
        "import tensorflow as tf\n",
        "from tensorflow.keras.models import Sequential, Model,load_model\n",
        "from tensorflow.keras.layers import Activation,Dense, Dropout, Flatten, Conv2D, MaxPooling2D,MaxPool2D,AveragePooling2D,GlobalMaxPooling2D\n",
        "from tensorflow.keras import backend as K\n",
        "from tensorflow.keras.wrappers.scikit_learn import KerasClassifier\n",
        "from tensorflow.keras.layers import BatchNormalization\n",
        "from tensorflow.keras.utils import to_categorical # convert to one-hot-encoding\n",
        "from tensorflow.keras import regularizers\n",
        "from tensorflow.keras.optimizers import Adam, SGD\n",
        "from tensorflow.keras.preprocessing.image import ImageDataGenerator,array_to_img\n",
        "from tensorflow.keras.callbacks import ReduceLROnPlateau, EarlyStopping,ModelCheckpoint\n",
        "from tensorflow.keras.metrics import PrecisionAtRecall,Recall"
      ]
    },
    {
      "cell_type": "code",
      "execution_count": 5,
      "id": "99fbab2c",
      "metadata": {
        "execution": {
          "iopub.execute_input": "2021-10-08T14:18:38.008308Z",
          "iopub.status.busy": "2021-10-08T14:18:38.007650Z",
          "iopub.status.idle": "2021-10-08T14:18:38.131623Z",
          "shell.execute_reply": "2021-10-08T14:18:38.131125Z",
          "shell.execute_reply.started": "2021-10-08T14:13:46.648117Z"
        },
        "papermill": {
          "duration": 0.143881,
          "end_time": "2021-10-08T14:18:38.131735",
          "exception": false,
          "start_time": "2021-10-08T14:18:37.987854",
          "status": "completed"
        },
        "tags": [],
        "id": "99fbab2c"
      },
      "outputs": [],
      "source": [
        "from sklearn.metrics import confusion_matrix, classification_report\n",
        "from sklearn.metrics import precision_recall_fscore_support, accuracy_score"
      ]
    },
    {
      "cell_type": "code",
      "execution_count": 12,
      "id": "95505d92",
      "metadata": {
        "execution": {
          "iopub.execute_input": "2021-10-08T14:18:38.995611Z",
          "iopub.status.busy": "2021-10-08T14:18:38.994129Z",
          "iopub.status.idle": "2021-10-08T14:18:45.520821Z",
          "shell.execute_reply": "2021-10-08T14:18:45.521376Z",
          "shell.execute_reply.started": "2021-10-08T14:13:49.506184Z"
        },
        "papermill": {
          "duration": 6.550266,
          "end_time": "2021-10-08T14:18:45.521581",
          "exception": false,
          "start_time": "2021-10-08T14:18:38.971315",
          "status": "completed"
        },
        "tags": [],
        "colab": {
          "base_uri": "https://localhost:8080/"
        },
        "id": "95505d92",
        "outputId": "888fb80e-41f2-44c1-97c9-3533ba6d9f1b"
      },
      "outputs": [
        {
          "output_type": "stream",
          "name": "stdout",
          "text": [
            "Found 1725 images belonging to 2 classes.\n",
            "Found 345 images belonging to 2 classes.\n"
          ]
        }
      ],
      "source": [
        "test_path = '/content/drive/MyDrive/Colab Notebooks/S7/TKC/Data/test'\n",
        "train_path = '/content/drive/MyDrive/Colab Notebooks/S7/TKC/Data/train'\n",
        "\n",
        "classes = [\"COVID19\", \"NORMAL\"]\n",
        "num_classes = len(classes)\n",
        "batch_size = 16\n",
        "\n",
        "train_datagen = ImageDataGenerator(rescale=1./255,\n",
        "                                  rotation_range=20,\n",
        "                                  width_shift_range=0.2,\n",
        "                                  height_shift_range=0.2,\n",
        "                                  horizontal_flip=True, validation_split=0.001)\n",
        "\n",
        "test_datagen = ImageDataGenerator(rescale=1./255,\n",
        "                                 validation_split=0.8)\n",
        "\n",
        "train_gen = train_datagen.flow_from_directory(directory=train_path,\n",
        "                                             target_size=(299, 299),\n",
        "                                             class_mode='binary',\n",
        "                                             subset='training',\n",
        "                                             shuffle=True, \n",
        "                                             classes=classes,\n",
        "                                             batch_size=batch_size,\n",
        "                                             )\n",
        "\n",
        "test_gen = test_datagen.flow_from_directory(directory=test_path,\n",
        "                                             target_size=(299, 299),\n",
        "                                             class_mode='binary',\n",
        "                                             subset='validation',\n",
        "                                             shuffle=False, \n",
        "                                             classes=classes,\n",
        "                                             batch_size=batch_size,\n",
        "                                             )"
      ]
    },
    {
      "cell_type": "code",
      "execution_count": 13,
      "id": "2565a3c1",
      "metadata": {
        "execution": {
          "iopub.execute_input": "2021-10-08T14:18:45.566950Z",
          "iopub.status.busy": "2021-10-08T14:18:45.566440Z",
          "iopub.status.idle": "2021-10-08T14:18:47.743919Z",
          "shell.execute_reply": "2021-10-08T14:18:47.743432Z",
          "shell.execute_reply.started": "2021-10-08T14:13:55.215133Z"
        },
        "papermill": {
          "duration": 2.205299,
          "end_time": "2021-10-08T14:18:47.744054",
          "exception": false,
          "start_time": "2021-10-08T14:18:45.538755",
          "status": "completed"
        },
        "tags": [],
        "id": "2565a3c1"
      },
      "outputs": [],
      "source": [
        "model = Sequential()\n",
        "model.add(Conv2D(32, (3,3), activation='relu', padding='Same', input_shape=(299, 299, 3)))\n",
        "model.add(BatchNormalization())\n",
        "\n",
        "################\n",
        "\n",
        "model.add(Conv2D(64, (3,3), activation='relu', padding='Same'))\n",
        "model.add(BatchNormalization())\n",
        "model.add(AveragePooling2D(pool_size = (2,2)))\n",
        "model.add(Dropout(0.25))\n",
        "\n",
        "model.add(Conv2D(64, (3,3), activation='relu', padding='Same'))\n",
        "model.add(BatchNormalization())\n",
        "\n",
        "model.add(Conv2D(64, (3,3), activation='relu', padding='Same'))\n",
        "model.add(BatchNormalization())\n",
        "model.add(AveragePooling2D(pool_size = (2,2)))\n",
        "model.add(Dropout(0.25))\n",
        "\n",
        "#################\n",
        "\n",
        "model.add(Conv2D(64, (3,3), activation='relu', padding='Same'))\n",
        "model.add(BatchNormalization())\n",
        "model.add(AveragePooling2D(pool_size = (2,2)))\n",
        "model.add(Dropout(0.25))\n",
        "\n",
        "model.add(Conv2D(64, (3,3), activation='relu', padding='Same'))\n",
        "model.add(BatchNormalization())\n",
        "\n",
        "model.add(Conv2D(64, (3,3), activation='relu', padding='Same'))\n",
        "model.add(BatchNormalization())\n",
        "model.add(AveragePooling2D(pool_size = (2,2)))\n",
        "model.add(Dropout(0.25))\n",
        "\n",
        "#################\n",
        "\n",
        "model.add(Flatten())\n",
        "\n",
        "model.add(BatchNormalization())\n",
        "model.add(Dense(128, activation='relu'))\n",
        "model.add(Activation('relu'))\n",
        "model.add(Dropout(0.25))\n",
        "\n",
        "#Output \n",
        "model.add(BatchNormalization())\n",
        "model.add(Dense(1, activation='sigmoid'))"
      ]
    },
    {
      "cell_type": "code",
      "execution_count": 14,
      "id": "001df97c",
      "metadata": {
        "execution": {
          "iopub.execute_input": "2021-10-08T14:18:47.783603Z",
          "iopub.status.busy": "2021-10-08T14:18:47.782733Z",
          "iopub.status.idle": "2021-10-08T14:18:47.796907Z",
          "shell.execute_reply": "2021-10-08T14:18:47.797545Z",
          "shell.execute_reply.started": "2021-10-08T14:13:57.301201Z"
        },
        "papermill": {
          "duration": 0.036025,
          "end_time": "2021-10-08T14:18:47.797680",
          "exception": false,
          "start_time": "2021-10-08T14:18:47.761655",
          "status": "completed"
        },
        "tags": [],
        "colab": {
          "base_uri": "https://localhost:8080/"
        },
        "id": "001df97c",
        "outputId": "91c09644-0b9e-493b-df61-730b8302b810"
      },
      "outputs": [
        {
          "output_type": "stream",
          "name": "stdout",
          "text": [
            "Model: \"sequential_1\"\n",
            "_________________________________________________________________\n",
            " Layer (type)                Output Shape              Param #   \n",
            "=================================================================\n",
            " conv2d_7 (Conv2D)           (None, 299, 299, 32)      896       \n",
            "                                                                 \n",
            " batch_normalization_9 (Batc  (None, 299, 299, 32)     128       \n",
            " hNormalization)                                                 \n",
            "                                                                 \n",
            " conv2d_8 (Conv2D)           (None, 299, 299, 64)      18496     \n",
            "                                                                 \n",
            " batch_normalization_10 (Bat  (None, 299, 299, 64)     256       \n",
            " chNormalization)                                                \n",
            "                                                                 \n",
            " average_pooling2d_4 (Averag  (None, 149, 149, 64)     0         \n",
            " ePooling2D)                                                     \n",
            "                                                                 \n",
            " dropout_5 (Dropout)         (None, 149, 149, 64)      0         \n",
            "                                                                 \n",
            " conv2d_9 (Conv2D)           (None, 149, 149, 64)      36928     \n",
            "                                                                 \n",
            " batch_normalization_11 (Bat  (None, 149, 149, 64)     256       \n",
            " chNormalization)                                                \n",
            "                                                                 \n",
            " conv2d_10 (Conv2D)          (None, 149, 149, 64)      36928     \n",
            "                                                                 \n",
            " batch_normalization_12 (Bat  (None, 149, 149, 64)     256       \n",
            " chNormalization)                                                \n",
            "                                                                 \n",
            " average_pooling2d_5 (Averag  (None, 74, 74, 64)       0         \n",
            " ePooling2D)                                                     \n",
            "                                                                 \n",
            " dropout_6 (Dropout)         (None, 74, 74, 64)        0         \n",
            "                                                                 \n",
            " conv2d_11 (Conv2D)          (None, 74, 74, 64)        36928     \n",
            "                                                                 \n",
            " batch_normalization_13 (Bat  (None, 74, 74, 64)       256       \n",
            " chNormalization)                                                \n",
            "                                                                 \n",
            " average_pooling2d_6 (Averag  (None, 37, 37, 64)       0         \n",
            " ePooling2D)                                                     \n",
            "                                                                 \n",
            " dropout_7 (Dropout)         (None, 37, 37, 64)        0         \n",
            "                                                                 \n",
            " conv2d_12 (Conv2D)          (None, 37, 37, 64)        36928     \n",
            "                                                                 \n",
            " batch_normalization_14 (Bat  (None, 37, 37, 64)       256       \n",
            " chNormalization)                                                \n",
            "                                                                 \n",
            " conv2d_13 (Conv2D)          (None, 37, 37, 64)        36928     \n",
            "                                                                 \n",
            " batch_normalization_15 (Bat  (None, 37, 37, 64)       256       \n",
            " chNormalization)                                                \n",
            "                                                                 \n",
            " average_pooling2d_7 (Averag  (None, 18, 18, 64)       0         \n",
            " ePooling2D)                                                     \n",
            "                                                                 \n",
            " dropout_8 (Dropout)         (None, 18, 18, 64)        0         \n",
            "                                                                 \n",
            " flatten_1 (Flatten)         (None, 20736)             0         \n",
            "                                                                 \n",
            " batch_normalization_16 (Bat  (None, 20736)            82944     \n",
            " chNormalization)                                                \n",
            "                                                                 \n",
            " dense_2 (Dense)             (None, 128)               2654336   \n",
            "                                                                 \n",
            " activation_1 (Activation)   (None, 128)               0         \n",
            "                                                                 \n",
            " dropout_9 (Dropout)         (None, 128)               0         \n",
            "                                                                 \n",
            " batch_normalization_17 (Bat  (None, 128)              512       \n",
            " chNormalization)                                                \n",
            "                                                                 \n",
            " dense_3 (Dense)             (None, 1)                 129       \n",
            "                                                                 \n",
            "=================================================================\n",
            "Total params: 2,943,617\n",
            "Trainable params: 2,901,057\n",
            "Non-trainable params: 42,560\n",
            "_________________________________________________________________\n"
          ]
        }
      ],
      "source": [
        "model.summary()"
      ]
    },
    {
      "cell_type": "code",
      "execution_count": 15,
      "id": "892743e6",
      "metadata": {
        "execution": {
          "iopub.execute_input": "2021-10-08T14:18:47.844623Z",
          "iopub.status.busy": "2021-10-08T14:18:47.838890Z",
          "iopub.status.idle": "2021-10-08T14:18:47.849846Z",
          "shell.execute_reply": "2021-10-08T14:18:47.850253Z",
          "shell.execute_reply.started": "2021-10-08T14:13:57.324744Z"
        },
        "papermill": {
          "duration": 0.033735,
          "end_time": "2021-10-08T14:18:47.850399",
          "exception": false,
          "start_time": "2021-10-08T14:18:47.816664",
          "status": "completed"
        },
        "tags": [],
        "colab": {
          "base_uri": "https://localhost:8080/"
        },
        "id": "892743e6",
        "outputId": "43053a9f-e667-4f61-bd9c-1557c0d01456"
      },
      "outputs": [
        {
          "output_type": "stream",
          "name": "stderr",
          "text": [
            "/usr/local/lib/python3.7/dist-packages/keras/optimizer_v2/adam.py:105: UserWarning: The `lr` argument is deprecated, use `learning_rate` instead.\n",
            "  super(Adam, self).__init__(name, **kwargs)\n"
          ]
        }
      ],
      "source": [
        "opt = Adam(lr=0.002, beta_1=0.9, beta_2=0.999, epsilon=None, decay=0.1, amsgrad=False)\n",
        "model.compile(optimizer=opt, loss='binary_crossentropy', metrics=['acc'])"
      ]
    },
    {
      "cell_type": "code",
      "source": [
        "from tensorflow import keras\n",
        "\n",
        "#keras.utils.plot_model(model)"
      ],
      "metadata": {
        "id": "RgTdEgRmoG-d"
      },
      "id": "RgTdEgRmoG-d",
      "execution_count": 16,
      "outputs": []
    },
    {
      "cell_type": "code",
      "execution_count": 17,
      "id": "53e80885",
      "metadata": {
        "execution": {
          "iopub.execute_input": "2021-10-08T14:18:49.134890Z",
          "iopub.status.busy": "2021-10-08T14:18:49.134294Z",
          "iopub.status.idle": "2021-10-08T14:43:09.858451Z",
          "shell.execute_reply": "2021-10-08T14:43:09.859551Z",
          "shell.execute_reply.started": "2021-09-26T16:47:18.046251Z"
        },
        "papermill": {
          "duration": 1460.750355,
          "end_time": "2021-10-08T14:43:09.859716",
          "exception": false,
          "start_time": "2021-10-08T14:18:49.109361",
          "status": "completed"
        },
        "tags": [],
        "colab": {
          "base_uri": "https://localhost:8080/"
        },
        "id": "53e80885",
        "outputId": "5e2b91f9-2046-450b-a3fd-d717c09fc4f2"
      },
      "outputs": [
        {
          "output_type": "stream",
          "name": "stdout",
          "text": [
            "Epoch 1/20\n",
            "6/6 [==============================] - 44s 6s/step - loss: 0.5146 - acc: 0.7708 - val_loss: 0.0274 - val_acc: 1.0000\n",
            "Epoch 2/20\n",
            "6/6 [==============================] - 15s 2s/step - loss: 0.7039 - acc: 0.8021 - val_loss: 0.0271 - val_acc: 1.0000\n",
            "Epoch 3/20\n",
            "6/6 [==============================] - 14s 2s/step - loss: 0.4752 - acc: 0.8333 - val_loss: 0.0028 - val_acc: 1.0000\n",
            "Epoch 4/20\n",
            "6/6 [==============================] - 15s 3s/step - loss: 0.1940 - acc: 0.9479 - val_loss: 7.9104e-04 - val_acc: 1.0000\n",
            "Epoch 5/20\n",
            "6/6 [==============================] - 15s 2s/step - loss: 0.3478 - acc: 0.8854 - val_loss: 8.4311e-04 - val_acc: 1.0000\n",
            "Epoch 6/20\n",
            "6/6 [==============================] - 13s 2s/step - loss: 0.2093 - acc: 0.9271 - val_loss: 0.0022 - val_acc: 1.0000\n",
            "Epoch 7/20\n",
            "6/6 [==============================] - 12s 2s/step - loss: 0.3505 - acc: 0.8750 - val_loss: 0.0072 - val_acc: 1.0000\n",
            "Epoch 8/20\n",
            "6/6 [==============================] - 15s 2s/step - loss: 0.2341 - acc: 0.9271 - val_loss: 0.0510 - val_acc: 1.0000\n",
            "Epoch 9/20\n",
            "6/6 [==============================] - 13s 2s/step - loss: 0.1923 - acc: 0.9479 - val_loss: 0.1480 - val_acc: 0.8750\n",
            "Epoch 10/20\n",
            "6/6 [==============================] - 13s 2s/step - loss: 0.3146 - acc: 0.8750 - val_loss: 0.2161 - val_acc: 0.8125\n",
            "Epoch 11/20\n",
            "6/6 [==============================] - 13s 2s/step - loss: 0.2228 - acc: 0.9479 - val_loss: 0.1915 - val_acc: 0.8125\n",
            "Epoch 12/20\n",
            "6/6 [==============================] - 11s 2s/step - loss: 0.1814 - acc: 0.9375 - val_loss: 0.2139 - val_acc: 0.8125\n",
            "Epoch 13/20\n",
            "6/6 [==============================] - 12s 2s/step - loss: 0.2484 - acc: 0.9167 - val_loss: 0.3560 - val_acc: 0.8125\n",
            "Epoch 14/20\n",
            "6/6 [==============================] - 11s 2s/step - loss: 0.2211 - acc: 0.9375 - val_loss: 0.4871 - val_acc: 0.8125\n",
            "Epoch 15/20\n",
            "6/6 [==============================] - 11s 2s/step - loss: 0.3896 - acc: 0.8750 - val_loss: 0.3702 - val_acc: 0.8125\n",
            "Epoch 16/20\n",
            "6/6 [==============================] - 11s 2s/step - loss: 0.4527 - acc: 0.8854 - val_loss: 0.2467 - val_acc: 0.8750\n",
            "Epoch 17/20\n",
            "6/6 [==============================] - 11s 2s/step - loss: 0.1408 - acc: 0.9375 - val_loss: 0.3159 - val_acc: 0.8125\n",
            "Epoch 18/20\n",
            "6/6 [==============================] - 10s 2s/step - loss: 0.2240 - acc: 0.9271 - val_loss: 0.3184 - val_acc: 0.8125\n",
            "Epoch 19/20\n",
            "6/6 [==============================] - 11s 2s/step - loss: 0.1305 - acc: 0.9583 - val_loss: 0.3057 - val_acc: 0.9375\n",
            "Epoch 20/20\n",
            "6/6 [==============================] - 11s 2s/step - loss: 0.2202 - acc: 0.9462 - val_loss: 0.2379 - val_acc: 0.9375\n"
          ]
        }
      ],
      "source": [
        "epochs=20\n",
        "\n",
        "#callback\n",
        "\n",
        "history = model.fit(train_gen,\n",
        "                    steps_per_epoch=len(train_gen) // batch_size,\n",
        "                    validation_steps=len(test_gen) // batch_size,\n",
        "                    validation_data=test_gen, \n",
        "                    epochs=epochs,\n",
        "                    verbose = 1)"
      ]
    },
    {
      "cell_type": "code",
      "execution_count": 18,
      "id": "e842dff3",
      "metadata": {
        "execution": {
          "iopub.execute_input": "2021-10-08T14:43:11.177726Z",
          "iopub.status.busy": "2021-10-08T14:43:11.175548Z",
          "iopub.status.idle": "2021-10-08T14:43:57.852840Z",
          "shell.execute_reply": "2021-10-08T14:43:57.852259Z",
          "shell.execute_reply.started": "2021-09-26T17:12:10.371077Z"
        },
        "papermill": {
          "duration": 47.378588,
          "end_time": "2021-10-08T14:43:57.852972",
          "exception": false,
          "start_time": "2021-10-08T14:43:10.474384",
          "status": "completed"
        },
        "tags": [],
        "id": "e842dff3"
      },
      "outputs": [],
      "source": [
        "y_pred = model.predict(test_gen)"
      ]
    },
    {
      "cell_type": "code",
      "execution_count": 19,
      "id": "c1b5a9fb",
      "metadata": {
        "execution": {
          "iopub.execute_input": "2021-10-08T14:43:59.061549Z",
          "iopub.status.busy": "2021-10-08T14:43:59.060828Z",
          "iopub.status.idle": "2021-10-08T14:43:59.063701Z",
          "shell.execute_reply": "2021-10-08T14:43:59.064107Z",
          "shell.execute_reply.started": "2021-09-26T17:14:43.051139Z"
        },
        "papermill": {
          "duration": 0.633181,
          "end_time": "2021-10-08T14:43:59.064241",
          "exception": false,
          "start_time": "2021-10-08T14:43:58.431060",
          "status": "completed"
        },
        "tags": [],
        "colab": {
          "base_uri": "https://localhost:8080/"
        },
        "id": "c1b5a9fb",
        "outputId": "d07b720e-4dc6-44af-acb9-681ae83059b2"
      },
      "outputs": [
        {
          "output_type": "execute_result",
          "data": {
            "text/plain": [
              "dict_keys(['loss', 'acc', 'val_loss', 'val_acc'])"
            ]
          },
          "metadata": {},
          "execution_count": 19
        }
      ],
      "source": [
        "history.history.keys()"
      ]
    },
    {
      "cell_type": "code",
      "execution_count": 20,
      "id": "948dc2fe",
      "metadata": {
        "execution": {
          "iopub.execute_input": "2021-10-08T14:44:00.267670Z",
          "iopub.status.busy": "2021-10-08T14:44:00.253243Z",
          "iopub.status.idle": "2021-10-08T14:44:00.779434Z",
          "shell.execute_reply": "2021-10-08T14:44:00.779002Z",
          "shell.execute_reply.started": "2021-09-26T17:14:44.959149Z"
        },
        "papermill": {
          "duration": 1.132812,
          "end_time": "2021-10-08T14:44:00.779556",
          "exception": false,
          "start_time": "2021-10-08T14:43:59.646744",
          "status": "completed"
        },
        "tags": [],
        "colab": {
          "base_uri": "https://localhost:8080/",
          "height": 295
        },
        "id": "948dc2fe",
        "outputId": "20d700ee-5c71-4f27-e989-29382c500592"
      },
      "outputs": [
        {
          "output_type": "display_data",
          "data": {
            "image/png": "[encoded data removed]",
            "text/plain": [
              "<Figure size 1080x360 with 2 Axes>"
            ]
          },
          "metadata": {
            "needs_background": "light"
          }
        }
      ],
      "source": [
        "fig, axarr = plt.subplots(1,2, figsize=(15,5), sharex=True)\n",
        "\n",
        "sns.set(style=\"ticks\", font_scale = 1)\n",
        "sns.despine(top=True, right=True, left=False, bottom=False)\n",
        "\n",
        "historyDF = pd.DataFrame.from_dict(history.history)\n",
        "ax = sns.lineplot(x = historyDF.index, y = history.history['acc'], ax=axarr[0], label=\"Training\");\n",
        "ax = sns.lineplot(x = historyDF.index, y = history.history['val_acc'], ax=axarr[0], label=\"Validation\");\n",
        "ax.set_ylabel('Accuracy')\n",
        "\n",
        "ax = sns.lineplot(x = historyDF.index, y = history.history['loss'], ax=axarr[1], label=\"Training\");\n",
        "ax = sns.lineplot(x = historyDF.index, y = history.history['val_loss'], ax=axarr[1], label=\"Validation\");\n",
        "ax.set_ylabel('Loss')\n",
        "\n",
        "\n",
        "axarr[0].set_title('Training and Validation metric recall')\n",
        "axarr[1].set_title('Training and Validation loss')\n",
        "\n",
        "for ax in axarr:\n",
        "    ax.set_xlabel('Epochs')\n",
        "\n",
        "plt.suptitle('Training and performance plots', fontsize=16, weight='bold');\n",
        "fig.tight_layout(pad=3.0)\n",
        "plt.show()"
      ]
    },
    {
      "cell_type": "code",
      "execution_count": 20,
      "id": "0078a522",
      "metadata": {
        "execution": {
          "iopub.execute_input": "2021-09-26T17:14:52.003386Z",
          "iopub.status.busy": "2021-09-26T17:14:52.002883Z",
          "iopub.status.idle": "2021-09-26T17:14:52.029386Z",
          "shell.execute_reply": "2021-09-26T17:14:52.02833Z",
          "shell.execute_reply.started": "2021-09-26T17:14:52.003351Z"
        },
        "papermill": {
          "duration": 0.587378,
          "end_time": "2021-10-08T14:44:01.950435",
          "exception": false,
          "start_time": "2021-10-08T14:44:01.363057",
          "status": "completed"
        },
        "tags": [],
        "id": "0078a522"
      },
      "outputs": [],
      "source": [
        ""
      ]
    },
    {
      "cell_type": "code",
      "execution_count": 21,
      "id": "5c042bcc",
      "metadata": {
        "execution": {
          "iopub.execute_input": "2021-10-08T14:44:03.131441Z",
          "iopub.status.busy": "2021-10-08T14:44:03.127416Z",
          "iopub.status.idle": "2021-10-08T14:44:03.401823Z",
          "shell.execute_reply": "2021-10-08T14:44:03.401380Z",
          "shell.execute_reply.started": "2021-09-26T17:14:59.528699Z"
        },
        "papermill": {
          "duration": 0.866313,
          "end_time": "2021-10-08T14:44:03.401944",
          "exception": false,
          "start_time": "2021-10-08T14:44:02.535631",
          "status": "completed"
        },
        "tags": [],
        "colab": {
          "base_uri": "https://localhost:8080/",
          "height": 427
        },
        "id": "5c042bcc",
        "outputId": "45e31f71-1baa-4fb2-c6aa-10dacf8bd5ec"
      },
      "outputs": [
        {
          "output_type": "display_data",
          "data": {
            "image/png": "[encoded data removed]",
            "text/plain": [
              "<Figure size 864x432 with 2 Axes>"
            ]
          },
          "metadata": {}
        }
      ],
      "source": [
        "predictions = np.array(list(map(lambda x: np.argmax(x), y_pred)))\n",
        "\n",
        "y_true=test_gen.classes\n",
        "\n",
        "CMatrix = pd.DataFrame(confusion_matrix(y_true, predictions), columns=classes, index =classes)\n",
        "\n",
        "plt.figure(figsize=(12, 6))\n",
        "ax = sns.heatmap(CMatrix, annot = True, fmt = 'g' ,vmin = 0, vmax = 250,cmap = 'Blues')\n",
        "ax.set_xlabel('Predicted',fontsize = 14,weight = 'bold')\n",
        "ax.set_xticklabels(ax.get_xticklabels(),rotation =0);\n",
        "\n",
        "ax.set_ylabel('Actual',fontsize = 14,weight = 'bold') \n",
        "ax.set_yticklabels(ax.get_yticklabels(),rotation =0);\n",
        "ax.set_title('Confusion Matrix - Test Set',fontsize = 16,weight = 'bold',pad=20);"
      ]
    },
    {
      "cell_type": "code",
      "execution_count": 22,
      "id": "df79f11f",
      "metadata": {
        "execution": {
          "iopub.execute_input": "2021-10-08T14:44:04.571988Z",
          "iopub.status.busy": "2021-10-08T14:44:04.571171Z",
          "iopub.status.idle": "2021-10-08T14:44:04.580774Z",
          "shell.execute_reply": "2021-10-08T14:44:04.581358Z",
          "shell.execute_reply.started": "2021-09-26T17:15:15.062096Z"
        },
        "papermill": {
          "duration": 0.596795,
          "end_time": "2021-10-08T14:44:04.581570",
          "exception": false,
          "start_time": "2021-10-08T14:44:03.984775",
          "status": "completed"
        },
        "tags": [],
        "colab": {
          "base_uri": "https://localhost:8080/"
        },
        "id": "df79f11f",
        "outputId": "b33df401-4571-4009-9cae-6f89e2b7eac4"
      },
      "outputs": [
        {
          "output_type": "stream",
          "name": "stdout",
          "text": [
            "              precision    recall  f1-score   support\n",
            "\n",
            "           0       0.27      1.00      0.42        92\n",
            "           1       0.00      0.00      0.00       253\n",
            "\n",
            "    accuracy                           0.27       345\n",
            "   macro avg       0.13      0.50      0.21       345\n",
            "weighted avg       0.07      0.27      0.11       345\n",
            "\n"
          ]
        },
        {
          "output_type": "stream",
          "name": "stderr",
          "text": [
            "/usr/local/lib/python3.7/dist-packages/sklearn/metrics/_classification.py:1308: UndefinedMetricWarning: Precision and F-score are ill-defined and being set to 0.0 in labels with no predicted samples. Use `zero_division` parameter to control this behavior.\n",
            "  _warn_prf(average, modifier, msg_start, len(result))\n",
            "/usr/local/lib/python3.7/dist-packages/sklearn/metrics/_classification.py:1308: UndefinedMetricWarning: Precision and F-score are ill-defined and being set to 0.0 in labels with no predicted samples. Use `zero_division` parameter to control this behavior.\n",
            "  _warn_prf(average, modifier, msg_start, len(result))\n",
            "/usr/local/lib/python3.7/dist-packages/sklearn/metrics/_classification.py:1308: UndefinedMetricWarning: Precision and F-score are ill-defined and being set to 0.0 in labels with no predicted samples. Use `zero_division` parameter to control this behavior.\n",
            "  _warn_prf(average, modifier, msg_start, len(result))\n"
          ]
        }
      ],
      "source": [
        "print(classification_report(y_true, predictions))"
      ]
    },
    {
      "cell_type": "code",
      "execution_count": 24,
      "id": "8f715a8a",
      "metadata": {
        "execution": {
          "iopub.execute_input": "2021-10-08T14:44:05.785585Z",
          "iopub.status.busy": "2021-10-08T14:44:05.784704Z",
          "iopub.status.idle": "2021-10-08T14:44:06.561029Z",
          "shell.execute_reply": "2021-10-08T14:44:06.560212Z",
          "shell.execute_reply.started": "2021-09-26T17:15:17.39364Z"
        },
        "papermill": {
          "duration": 1.372329,
          "end_time": "2021-10-08T14:44:06.561156",
          "exception": false,
          "start_time": "2021-10-08T14:44:05.188827",
          "status": "completed"
        },
        "tags": [],
        "colab": {
          "base_uri": "https://localhost:8080/",
          "height": 1000
        },
        "id": "8f715a8a",
        "outputId": "e4fda7ea-f840-428f-c27c-4528974f28a0"
      },
      "outputs": [
        {
          "output_type": "display_data",
          "data": {
            "image/png": "[encoded data removed]",
            "text/plain": [
              "<Figure size 1584x720 with 1 Axes>"
            ]
          },
          "metadata": {}
        },
        {
          "output_type": "display_data",
          "data": {
            "image/png": "[encoded data removed]",
            "text/plain": [
              "<Figure size 1584x720 with 1 Axes>"
            ]
          },
          "metadata": {}
        },
        {
          "output_type": "display_data",
          "data": {
            "image/png": "[encoded data removed]",
            "text/plain": [
              "<Figure size 1584x720 with 1 Axes>"
            ]
          },
          "metadata": {}
        }
      ],
      "source": [
        "acc = accuracy_score(y_true, predictions)\n",
        "\n",
        "results_all = precision_recall_fscore_support(y_true, predictions, average='macro', zero_division=1)\n",
        "results_class = precision_recall_fscore_support(y_true, predictions, average=None, zero_division=1)\n",
        "\n",
        "metric_columns = ['Precision','Recall', 'F1-Score','S']\n",
        "all_df = pd.concat([pd.DataFrame(list(results_class)).T,pd.DataFrame(list(results_all)).T])\n",
        "all_df.columns = metric_columns\n",
        "all_df.index = ['COVID','Normal','Total']\n",
        "\n",
        "def metrics_plot(df,metric):\n",
        "    plt.figure(figsize=(22,10))\n",
        "    ax = sns.barplot(data =df, x=df.index, y = metric,palette = \"Blues_d\")\n",
        "    #Bar Labels\n",
        "    for p in ax.patches:\n",
        "        ax.annotate(\"%.1f%%\" % (100*p.get_height()), (p.get_x() + p.get_width() / 2., abs(p.get_height())),\n",
        "        ha='center', va='bottom', color='black', xytext=(-3, 5),rotation = 'horizontal',textcoords='offset points')\n",
        "    sns.despine(top=True, right=True, left=True, bottom=False)\n",
        "    ax.set_xlabel('Class',fontsize = 14,weight = 'bold')\n",
        "    ax.set_ylabel(metric,fontsize = 14,weight = 'bold')\n",
        "    ax.set(yticklabels=[])\n",
        "    ax.axes.get_yaxis().set_visible(False) \n",
        "    plt.title(metric+ ' Results per Class', fontsize = 16,weight = 'bold');\n",
        "\n",
        "metrics_plot(all_df, 'Precision')#Results by Class\n",
        "metrics_plot(all_df, 'Recall')#Results by Class\n",
        "metrics_plot(all_df, 'F1-Score')#Results by Class\n"
      ]
    },
    {
      "cell_type": "code",
      "execution_count": 25,
      "id": "df87fd84",
      "metadata": {
        "papermill": {
          "duration": 0.58408,
          "end_time": "2021-10-08T14:44:07.733072",
          "exception": false,
          "start_time": "2021-10-08T14:44:07.148992",
          "status": "completed"
        },
        "tags": [],
        "id": "df87fd84"
      },
      "outputs": [],
      "source": [
        "model.save('/content/drive/MyDrive/Colab Notebooks/S7/TKC/modelv2.h5')"
      ]
    }
  ],
  "metadata": {
    "kernelspec": {
      "display_name": "Python 3",
      "language": "python",
      "name": "python3"
    },
    "language_info": {
      "codemirror_mode": {
        "name": "ipython",
        "version": 3
      },
      "file_extension": ".py",
      "mimetype": "text/x-python",
      "name": "python",
      "nbconvert_exporter": "python",
      "pygments_lexer": "ipython3",
      "version": "3.7.10"
    },
    "papermill": {
      "default_parameters": {},
      "duration": 1546.228346,
      "end_time": "2021-10-08T14:44:13.100410",
      "environment_variables": {},
      "exception": null,
      "input_path": "__notebook__.ipynb",
      "output_path": "__notebook__.ipynb",
      "parameters": {},
      "start_time": "2021-10-08T14:18:26.872064",
      "version": "2.3.3"
    },
    "colab": {
      "name": "BuildModelv2_258-271.ipynb",
      "provenance": [],
      "collapsed_sections": [],
      "include_colab_link": true
    },
    "accelerator": "GPU"
  },
  "nbformat": 4,
  "nbformat_minor": 5
}